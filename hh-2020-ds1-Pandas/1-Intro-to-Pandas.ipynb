{
 "cells": [
  {
   "cell_type": "markdown",
   "metadata": {},
   "source": [
    "# Intro to Pandas \n",
    "\n",
    "Today we're going to be starting our journey through the Pandas library (created by Wes McKinney). \n",
    "\n",
    "When we refer to working in Pandas, we're typically talking about working within a dataframe, which is what we'll focus on today. \n",
    "\n",
    "\n",
    "We'll be diving into Pandas DataFrames, which are objects that will hold our data, allowing us to interact with it, manipulate it, and eventually throw it into machine learning algorithms (if we want). \n",
    "\n",
    "Since a Pandas DataFrame is an **object**, this means that we're going to interact with it in much the same way that we interact with all of our other objects in python. Before we get to actually interacting with DataFrames, though, we'll have to get one, and get one with data in it! There's one quick step that we have to do before that... \n",
    "\n",
    "## Pandas Import \n",
    "\n",
    "```python\n",
    "import pandas as pd # Standard import. \n",
    "```\n",
    "\n",
    "Here I've shown how we get access to everything in the Pandas library - we import it! Also note the python comment `\"# Standard import\"` out to the right of our import. This was to note that this is the standard way to import the Pandas library. \n",
    "\n",
    "\n",
    "We should always be sure that if we are importing the entire pandas library, we follow this syntax. It's common practice to use `pd` as the alias, and we tend to follow common practice whenever possible. This makes it easier for others to read our code."
   ]
  },
  {
   "cell_type": "markdown",
   "metadata": {},
   "source": [
    "## Getting a DataFrame Object\n",
    "\n",
    "There are two basic ways that we can get a Pandas DataFrame object to work with. The first is by using data that is already in our Python program, in conjuction with the `DataFrame` constructor. The second is by reading in external data through the pandas module (which remembered we've imported and made accessible via `pd`). For reference, here are the [docs](http://pandas.pydata.org/pandas-docs/stable/generated/pandas.DataFrame.html) for Pandas DataFrames. \n",
    "\n",
    "##### Using data already in our Python program\n",
    "\n",
    "If we are using data that is already in our Python program, then we are going to be passing that data to the `DataFrame` constructor. We typically do this in one of two ways. The first involves passing in a list of dictionaries, whereas the second involves passing in two lists. Let's dive into the first..."
   ]
  },
  {
   "cell_type": "code",
   "execution_count": 1,
   "metadata": {
    "ExecuteTime": {
     "end_time": "2020-02-04T17:27:29.116666Z",
     "start_time": "2020-02-04T17:27:29.072532Z"
    }
   },
   "outputs": [
    {
     "data": {
      "text/html": [
       "<div>\n",
       "<style scoped>\n",
       "    .dataframe tbody tr th:only-of-type {\n",
       "        vertical-align: middle;\n",
       "    }\n",
       "\n",
       "    .dataframe tbody tr th {\n",
       "        vertical-align: top;\n",
       "    }\n",
       "\n",
       "    .dataframe thead th {\n",
       "        text-align: right;\n",
       "    }\n",
       "</style>\n",
       "<table border=\"1\" class=\"dataframe\">\n",
       "  <thead>\n",
       "    <tr style=\"text-align: right;\">\n",
       "      <th></th>\n",
       "      <th>a</th>\n",
       "      <th>b</th>\n",
       "      <th>c</th>\n",
       "      <th>d</th>\n",
       "    </tr>\n",
       "  </thead>\n",
       "  <tbody>\n",
       "    <tr>\n",
       "      <td>0</td>\n",
       "      <td>1</td>\n",
       "      <td>2</td>\n",
       "      <td>3</td>\n",
       "      <td>NaN</td>\n",
       "    </tr>\n",
       "    <tr>\n",
       "      <td>1</td>\n",
       "      <td>4</td>\n",
       "      <td>5</td>\n",
       "      <td>6</td>\n",
       "      <td>7.0</td>\n",
       "    </tr>\n",
       "  </tbody>\n",
       "</table>\n",
       "</div>"
      ],
      "text/plain": [
       "   a  b  c    d\n",
       "0  1  2  3  NaN\n",
       "1  4  5  6  7.0"
      ]
     },
     "execution_count": 1,
     "metadata": {},
     "output_type": "execute_result"
    }
   ],
   "source": [
    "import pandas as pd # I haven't actually done this in code yet. \n",
    "data_lst = [{'a': 1, 'b': 2, 'c':3}, {'a': 4, 'b':5, 'c':6, 'd':7}]\n",
    "df = pd.DataFrame(data_lst)\n",
    "df"
   ]
  },
  {
   "cell_type": "markdown",
   "metadata": {},
   "source": [
    "What's going on here? How do I read that DataFrame output right above, and how did that list of dictionaries translate to that DataFrame? \n",
    "\n",
    "Each and every one of our Pandas DataFrames will consist of **rows** and **columns**, where the columns will be denoted and accessed via their names, and the rows will be denoted and access via the indices of the DataFrame. Above, we can look at our columns and see that their names are `a`, `b`, `c`, and `d`. We can similiary look at our rows and see that they are indexed by `0` and `1`. These column names and indices are how we will access this data later. How did the `DataFrame` constructor take our list of dictionaries and put it into the DataFrame in that format, though?\n",
    "\n",
    "When the Pandas DataFrame constructor encounters a list of dictionaries like we gave it, it interprets each dictionary to be a row in the DataFrame. The keys are read as the column names and the values as the values for each column. By default, the DataFrame constructor will assign a column for **every** key that it sees in **any** dictionary in the list of dictionaries. If a particular dictionary in that list doesn't have a value for that key, then it assigns a `NaN` (stands for not a number) value for that index-column pair. Therefore, when the Pandas DataFrame above got the list of dictionaries, it saw `a`, `b`, `c`, and `d` keys, and thus created those columns. It then filled in the values associated with those keys, filling in a `NaN` if it didn't find that key (like it didn't find `d` in the first dictionary in our list). "
   ]
  },
  {
   "cell_type": "code",
   "execution_count": 2,
   "metadata": {
    "ExecuteTime": {
     "end_time": "2020-02-04T17:27:30.883768Z",
     "start_time": "2020-02-04T17:27:30.878114Z"
    }
   },
   "outputs": [],
   "source": [
    "data_lst = [{'a': 1}, {'b':5}, {'c': 4}]\n",
    "df = pd.DataFrame(data_lst)"
   ]
  },
  {
   "cell_type": "markdown",
   "metadata": {},
   "source": [
    "**What do you expect our DataFrame to hold now?**"
   ]
  },
  {
   "cell_type": "code",
   "execution_count": 3,
   "metadata": {
    "ExecuteTime": {
     "end_time": "2020-02-04T17:27:31.808380Z",
     "start_time": "2020-02-04T17:27:31.797910Z"
    }
   },
   "outputs": [
    {
     "data": {
      "text/html": [
       "<div>\n",
       "<style scoped>\n",
       "    .dataframe tbody tr th:only-of-type {\n",
       "        vertical-align: middle;\n",
       "    }\n",
       "\n",
       "    .dataframe tbody tr th {\n",
       "        vertical-align: top;\n",
       "    }\n",
       "\n",
       "    .dataframe thead th {\n",
       "        text-align: right;\n",
       "    }\n",
       "</style>\n",
       "<table border=\"1\" class=\"dataframe\">\n",
       "  <thead>\n",
       "    <tr style=\"text-align: right;\">\n",
       "      <th></th>\n",
       "      <th>a</th>\n",
       "      <th>b</th>\n",
       "      <th>c</th>\n",
       "    </tr>\n",
       "  </thead>\n",
       "  <tbody>\n",
       "    <tr>\n",
       "      <td>0</td>\n",
       "      <td>1.0</td>\n",
       "      <td>NaN</td>\n",
       "      <td>NaN</td>\n",
       "    </tr>\n",
       "    <tr>\n",
       "      <td>1</td>\n",
       "      <td>NaN</td>\n",
       "      <td>5.0</td>\n",
       "      <td>NaN</td>\n",
       "    </tr>\n",
       "    <tr>\n",
       "      <td>2</td>\n",
       "      <td>NaN</td>\n",
       "      <td>NaN</td>\n",
       "      <td>4.0</td>\n",
       "    </tr>\n",
       "  </tbody>\n",
       "</table>\n",
       "</div>"
      ],
      "text/plain": [
       "     a    b    c\n",
       "0  1.0  NaN  NaN\n",
       "1  NaN  5.0  NaN\n",
       "2  NaN  NaN  4.0"
      ]
     },
     "execution_count": 3,
     "metadata": {},
     "output_type": "execute_result"
    }
   ],
   "source": [
    "df"
   ]
  },
  {
   "cell_type": "markdown",
   "metadata": {},
   "source": [
    "The second way of creating a dataframe from data that is already in our Python program is to pass in a list of lists as the `data` argument, and a list of strings as the `columns` argument. The `pd.DataFrame()` constructor will assume that each individual list in the `data` argument is one row (i.e. if you pass in a list of 5 lists, your dataframe will have 5 rows). Below, we're passing in a list of 2 lists to the `data` parameter, which means that our DataFrame will have two rows."
   ]
  },
  {
   "cell_type": "code",
   "execution_count": 4,
   "metadata": {
    "ExecuteTime": {
     "end_time": "2020-02-04T17:27:33.833090Z",
     "start_time": "2020-02-04T17:27:33.822767Z"
    }
   },
   "outputs": [
    {
     "data": {
      "text/html": [
       "<div>\n",
       "<style scoped>\n",
       "    .dataframe tbody tr th:only-of-type {\n",
       "        vertical-align: middle;\n",
       "    }\n",
       "\n",
       "    .dataframe tbody tr th {\n",
       "        vertical-align: top;\n",
       "    }\n",
       "\n",
       "    .dataframe thead th {\n",
       "        text-align: right;\n",
       "    }\n",
       "</style>\n",
       "<table border=\"1\" class=\"dataframe\">\n",
       "  <thead>\n",
       "    <tr style=\"text-align: right;\">\n",
       "      <th></th>\n",
       "      <th>a</th>\n",
       "      <th>b</th>\n",
       "      <th>c</th>\n",
       "    </tr>\n",
       "  </thead>\n",
       "  <tbody>\n",
       "    <tr>\n",
       "      <td>0</td>\n",
       "      <td>1</td>\n",
       "      <td>2</td>\n",
       "      <td>3</td>\n",
       "    </tr>\n",
       "    <tr>\n",
       "      <td>1</td>\n",
       "      <td>4</td>\n",
       "      <td>5</td>\n",
       "      <td>6</td>\n",
       "    </tr>\n",
       "  </tbody>\n",
       "</table>\n",
       "</div>"
      ],
      "text/plain": [
       "   a  b  c\n",
       "0  1  2  3\n",
       "1  4  5  6"
      ]
     },
     "execution_count": 4,
     "metadata": {},
     "output_type": "execute_result"
    }
   ],
   "source": [
    "data_vals = [[1, 2, 3], [4, 5, 6]]\n",
    "data_cols = ['a', 'b', 'c']\n",
    "df = pd.DataFrame(data=data_vals, columns=data_cols)\n",
    "df"
   ]
  },
  {
   "cell_type": "markdown",
   "metadata": {},
   "source": [
    "It's important to note that this method is not quite as flexible as using a list of dictionaries. When passing in a list of lists via the `data` argument, we have to make sure that the greatest number of elements in any single list corresponds to the number of column names we are passing in via the `columns` argument (no more, no less). For example:"
   ]
  },
  {
   "cell_type": "code",
   "execution_count": 5,
   "metadata": {
    "ExecuteTime": {
     "end_time": "2020-02-04T17:27:37.376911Z",
     "start_time": "2020-02-04T17:27:37.342495Z"
    },
    "scrolled": true
   },
   "outputs": [
    {
     "ename": "ValueError",
     "evalue": "2 columns passed, passed data had 3 columns",
     "output_type": "error",
     "traceback": [
      "\u001b[0;31m---------------------------------------------------------------------------\u001b[0m",
      "\u001b[0;31mAssertionError\u001b[0m                            Traceback (most recent call last)",
      "\u001b[0;32m~/opt/anaconda3/lib/python3.7/site-packages/pandas/core/internals/construction.py\u001b[0m in \u001b[0;36m_list_to_arrays\u001b[0;34m(data, columns, coerce_float, dtype)\u001b[0m\n\u001b[1;32m    499\u001b[0m         result = _convert_object_array(\n\u001b[0;32m--> 500\u001b[0;31m             \u001b[0mcontent\u001b[0m\u001b[0;34m,\u001b[0m \u001b[0mcolumns\u001b[0m\u001b[0;34m,\u001b[0m \u001b[0mdtype\u001b[0m\u001b[0;34m=\u001b[0m\u001b[0mdtype\u001b[0m\u001b[0;34m,\u001b[0m \u001b[0mcoerce_float\u001b[0m\u001b[0;34m=\u001b[0m\u001b[0mcoerce_float\u001b[0m\u001b[0;34m\u001b[0m\u001b[0;34m\u001b[0m\u001b[0m\n\u001b[0m\u001b[1;32m    501\u001b[0m         )\n",
      "\u001b[0;32m~/opt/anaconda3/lib/python3.7/site-packages/pandas/core/internals/construction.py\u001b[0m in \u001b[0;36m_convert_object_array\u001b[0;34m(content, columns, coerce_float, dtype)\u001b[0m\n\u001b[1;32m    582\u001b[0m                 \u001b[0;34m\"{col:d} columns passed, passed data had \"\u001b[0m\u001b[0;34m\u001b[0m\u001b[0;34m\u001b[0m\u001b[0m\n\u001b[0;32m--> 583\u001b[0;31m                 \u001b[0;34m\"{con} columns\"\u001b[0m\u001b[0;34m.\u001b[0m\u001b[0mformat\u001b[0m\u001b[0;34m(\u001b[0m\u001b[0mcol\u001b[0m\u001b[0;34m=\u001b[0m\u001b[0mlen\u001b[0m\u001b[0;34m(\u001b[0m\u001b[0mcolumns\u001b[0m\u001b[0;34m)\u001b[0m\u001b[0;34m,\u001b[0m \u001b[0mcon\u001b[0m\u001b[0;34m=\u001b[0m\u001b[0mlen\u001b[0m\u001b[0;34m(\u001b[0m\u001b[0mcontent\u001b[0m\u001b[0;34m)\u001b[0m\u001b[0;34m)\u001b[0m\u001b[0;34m\u001b[0m\u001b[0;34m\u001b[0m\u001b[0m\n\u001b[0m\u001b[1;32m    584\u001b[0m             )\n",
      "\u001b[0;31mAssertionError\u001b[0m: 2 columns passed, passed data had 3 columns",
      "\nThe above exception was the direct cause of the following exception:\n",
      "\u001b[0;31mValueError\u001b[0m                                Traceback (most recent call last)",
      "\u001b[0;32m<ipython-input-5-812580ea08c7>\u001b[0m in \u001b[0;36m<module>\u001b[0;34m\u001b[0m\n\u001b[1;32m      1\u001b[0m \u001b[0mdata_vals\u001b[0m \u001b[0;34m=\u001b[0m \u001b[0;34m[\u001b[0m\u001b[0;34m[\u001b[0m\u001b[0;36m1\u001b[0m\u001b[0;34m,\u001b[0m \u001b[0;36m2\u001b[0m\u001b[0;34m]\u001b[0m\u001b[0;34m,\u001b[0m \u001b[0;34m[\u001b[0m\u001b[0;36m4\u001b[0m\u001b[0;34m,\u001b[0m \u001b[0;36m5\u001b[0m\u001b[0;34m,\u001b[0m \u001b[0;36m6\u001b[0m\u001b[0;34m]\u001b[0m\u001b[0;34m]\u001b[0m\u001b[0;34m\u001b[0m\u001b[0;34m\u001b[0m\u001b[0m\n\u001b[1;32m      2\u001b[0m \u001b[0mdata_cols\u001b[0m \u001b[0;34m=\u001b[0m \u001b[0;34m[\u001b[0m\u001b[0;34m'a'\u001b[0m\u001b[0;34m,\u001b[0m \u001b[0;34m'b'\u001b[0m\u001b[0;34m]\u001b[0m\u001b[0;34m\u001b[0m\u001b[0;34m\u001b[0m\u001b[0m\n\u001b[0;32m----> 3\u001b[0;31m \u001b[0mdf\u001b[0m \u001b[0;34m=\u001b[0m \u001b[0mpd\u001b[0m\u001b[0;34m.\u001b[0m\u001b[0mDataFrame\u001b[0m\u001b[0;34m(\u001b[0m\u001b[0mdata\u001b[0m\u001b[0;34m=\u001b[0m\u001b[0mdata_vals\u001b[0m\u001b[0;34m,\u001b[0m \u001b[0mcolumns\u001b[0m\u001b[0;34m=\u001b[0m\u001b[0mdata_cols\u001b[0m\u001b[0;34m)\u001b[0m\u001b[0;34m\u001b[0m\u001b[0;34m\u001b[0m\u001b[0m\n\u001b[0m",
      "\u001b[0;32m~/opt/anaconda3/lib/python3.7/site-packages/pandas/core/frame.py\u001b[0m in \u001b[0;36m__init__\u001b[0;34m(self, data, index, columns, dtype, copy)\u001b[0m\n\u001b[1;32m    448\u001b[0m                     \u001b[0;32mif\u001b[0m \u001b[0mis_named_tuple\u001b[0m\u001b[0;34m(\u001b[0m\u001b[0mdata\u001b[0m\u001b[0;34m[\u001b[0m\u001b[0;36m0\u001b[0m\u001b[0;34m]\u001b[0m\u001b[0;34m)\u001b[0m \u001b[0;32mand\u001b[0m \u001b[0mcolumns\u001b[0m \u001b[0;32mis\u001b[0m \u001b[0;32mNone\u001b[0m\u001b[0;34m:\u001b[0m\u001b[0;34m\u001b[0m\u001b[0;34m\u001b[0m\u001b[0m\n\u001b[1;32m    449\u001b[0m                         \u001b[0mcolumns\u001b[0m \u001b[0;34m=\u001b[0m \u001b[0mdata\u001b[0m\u001b[0;34m[\u001b[0m\u001b[0;36m0\u001b[0m\u001b[0;34m]\u001b[0m\u001b[0;34m.\u001b[0m\u001b[0m_fields\u001b[0m\u001b[0;34m\u001b[0m\u001b[0;34m\u001b[0m\u001b[0m\n\u001b[0;32m--> 450\u001b[0;31m                     \u001b[0marrays\u001b[0m\u001b[0;34m,\u001b[0m \u001b[0mcolumns\u001b[0m \u001b[0;34m=\u001b[0m \u001b[0mto_arrays\u001b[0m\u001b[0;34m(\u001b[0m\u001b[0mdata\u001b[0m\u001b[0;34m,\u001b[0m \u001b[0mcolumns\u001b[0m\u001b[0;34m,\u001b[0m \u001b[0mdtype\u001b[0m\u001b[0;34m=\u001b[0m\u001b[0mdtype\u001b[0m\u001b[0;34m)\u001b[0m\u001b[0;34m\u001b[0m\u001b[0;34m\u001b[0m\u001b[0m\n\u001b[0m\u001b[1;32m    451\u001b[0m                     \u001b[0mcolumns\u001b[0m \u001b[0;34m=\u001b[0m \u001b[0mensure_index\u001b[0m\u001b[0;34m(\u001b[0m\u001b[0mcolumns\u001b[0m\u001b[0;34m)\u001b[0m\u001b[0;34m\u001b[0m\u001b[0;34m\u001b[0m\u001b[0m\n\u001b[1;32m    452\u001b[0m \u001b[0;34m\u001b[0m\u001b[0m\n",
      "\u001b[0;32m~/opt/anaconda3/lib/python3.7/site-packages/pandas/core/internals/construction.py\u001b[0m in \u001b[0;36mto_arrays\u001b[0;34m(data, columns, coerce_float, dtype)\u001b[0m\n\u001b[1;32m    462\u001b[0m         \u001b[0;32mreturn\u001b[0m \u001b[0;34m[\u001b[0m\u001b[0;34m]\u001b[0m\u001b[0;34m,\u001b[0m \u001b[0;34m[\u001b[0m\u001b[0;34m]\u001b[0m  \u001b[0;31m# columns if columns is not None else []\u001b[0m\u001b[0;34m\u001b[0m\u001b[0;34m\u001b[0m\u001b[0m\n\u001b[1;32m    463\u001b[0m     \u001b[0;32mif\u001b[0m \u001b[0misinstance\u001b[0m\u001b[0;34m(\u001b[0m\u001b[0mdata\u001b[0m\u001b[0;34m[\u001b[0m\u001b[0;36m0\u001b[0m\u001b[0;34m]\u001b[0m\u001b[0;34m,\u001b[0m \u001b[0;34m(\u001b[0m\u001b[0mlist\u001b[0m\u001b[0;34m,\u001b[0m \u001b[0mtuple\u001b[0m\u001b[0;34m)\u001b[0m\u001b[0;34m)\u001b[0m\u001b[0;34m:\u001b[0m\u001b[0;34m\u001b[0m\u001b[0;34m\u001b[0m\u001b[0m\n\u001b[0;32m--> 464\u001b[0;31m         \u001b[0;32mreturn\u001b[0m \u001b[0m_list_to_arrays\u001b[0m\u001b[0;34m(\u001b[0m\u001b[0mdata\u001b[0m\u001b[0;34m,\u001b[0m \u001b[0mcolumns\u001b[0m\u001b[0;34m,\u001b[0m \u001b[0mcoerce_float\u001b[0m\u001b[0;34m=\u001b[0m\u001b[0mcoerce_float\u001b[0m\u001b[0;34m,\u001b[0m \u001b[0mdtype\u001b[0m\u001b[0;34m=\u001b[0m\u001b[0mdtype\u001b[0m\u001b[0;34m)\u001b[0m\u001b[0;34m\u001b[0m\u001b[0;34m\u001b[0m\u001b[0m\n\u001b[0m\u001b[1;32m    465\u001b[0m     \u001b[0;32melif\u001b[0m \u001b[0misinstance\u001b[0m\u001b[0;34m(\u001b[0m\u001b[0mdata\u001b[0m\u001b[0;34m[\u001b[0m\u001b[0;36m0\u001b[0m\u001b[0;34m]\u001b[0m\u001b[0;34m,\u001b[0m \u001b[0mabc\u001b[0m\u001b[0;34m.\u001b[0m\u001b[0mMapping\u001b[0m\u001b[0;34m)\u001b[0m\u001b[0;34m:\u001b[0m\u001b[0;34m\u001b[0m\u001b[0;34m\u001b[0m\u001b[0m\n\u001b[1;32m    466\u001b[0m         return _list_of_dict_to_arrays(\n",
      "\u001b[0;32m~/opt/anaconda3/lib/python3.7/site-packages/pandas/core/internals/construction.py\u001b[0m in \u001b[0;36m_list_to_arrays\u001b[0;34m(data, columns, coerce_float, dtype)\u001b[0m\n\u001b[1;32m    501\u001b[0m         )\n\u001b[1;32m    502\u001b[0m     \u001b[0;32mexcept\u001b[0m \u001b[0mAssertionError\u001b[0m \u001b[0;32mas\u001b[0m \u001b[0me\u001b[0m\u001b[0;34m:\u001b[0m\u001b[0;34m\u001b[0m\u001b[0;34m\u001b[0m\u001b[0m\n\u001b[0;32m--> 503\u001b[0;31m         \u001b[0;32mraise\u001b[0m \u001b[0mValueError\u001b[0m\u001b[0;34m(\u001b[0m\u001b[0me\u001b[0m\u001b[0;34m)\u001b[0m \u001b[0;32mfrom\u001b[0m \u001b[0me\u001b[0m\u001b[0;34m\u001b[0m\u001b[0;34m\u001b[0m\u001b[0m\n\u001b[0m\u001b[1;32m    504\u001b[0m     \u001b[0;32mreturn\u001b[0m \u001b[0mresult\u001b[0m\u001b[0;34m\u001b[0m\u001b[0;34m\u001b[0m\u001b[0m\n\u001b[1;32m    505\u001b[0m \u001b[0;34m\u001b[0m\u001b[0m\n",
      "\u001b[0;31mValueError\u001b[0m: 2 columns passed, passed data had 3 columns"
     ]
    }
   ],
   "source": [
    "data_vals = [[1, 2], [4, 5, 6]]\n",
    "data_cols = ['a', 'b']\n",
    "df = pd.DataFrame(data=data_vals, columns=data_cols)"
   ]
  },
  {
   "cell_type": "markdown",
   "metadata": {},
   "source": [
    "We do, however, have the flexibility of passing in some rows with 'missing' data. The key to note here, though, is that the last column name will become what is filled with a `NaN` if a list is missing a column value (it will not be based off a key name like in our list of dictionaries). "
   ]
  },
  {
   "cell_type": "code",
   "execution_count": null,
   "metadata": {
    "ExecuteTime": {
     "end_time": "2020-02-04T17:27:56.049900Z",
     "start_time": "2020-02-04T17:27:56.038780Z"
    }
   },
   "outputs": [],
   "source": [
    "data_vals = [[1, 2], [4, 5, 6]]\n",
    "data_cols = ['a', 'b', 'c']\n",
    "df = pd.DataFrame(data=data_vals, columns=data_cols)\n",
    "df"
   ]
  },
  {
   "cell_type": "markdown",
   "metadata": {},
   "source": [
    "#### Reading External Data\n",
    "\n",
    "There are many ways that we can read external data into a Pandas DataFrame, and they will be called as a function that is available via the `pandas` module. \n",
    "\n",
    "\n",
    "As a result of importing the `pandas` module and making it accessible via `pd`, this means that we will call all of these functions via `pd`. Each one of these functions will **return** back to us a Pandas DataFrame object, populated with the external data that we read in. \n",
    "\n",
    "The [Pandas documentation](http://pandas.pydata.org/pandas-docs/stable/io.html) will show you all of the ways that you could load external data into a DataFrame. Basically, there is a way to load in data stored in any format (CSV, JSON, SQL, Excel, HTML). All of these take some form of a `read_{data_type}` function, which means that we will call them as `pd.read_{data_type}`.\n",
    "\n",
    "So, if we wanted to load data in from a CSV, we would simply use:\n",
    "\n",
    "```python\n",
    "df = pd.read_csv('my_data.csv')\n",
    "```\n",
    "\n",
    "Note: This assumes that we have the column names in the first row of your .csv.\n",
    "\n",
    "If we don't have the column names in the first row of our .csv, we could read in the .csv with the following:\n",
    "\n",
    "```python\n",
    "df = pd.read_csv('my_data.csv', header=None)\n",
    "```\n",
    "\n",
    "Note: This by default assigns numbers as the column names (starting with 0).\n",
    "\n",
    "If we wanted to assign the column names as we read it in, we can pass in an additional `names` argument, where this `names` argument holds a list of the names we want to assign to the columns.\n",
    "\n",
    "```python\n",
    "df = pd.read_csv('my_data.csv', header=None, names=['col1', 'col2', ...., 'col12'])\n",
    "```\n",
    "\n",
    "We have looked at a couple of the parameters that we can pass arguments to when reading in data. Just note that the functions that are available to read in data from other sources will likely also have optional parameters that we can specify. "
   ]
  },
  {
   "cell_type": "markdown",
   "metadata": {},
   "source": [
    "## Looking at Your Data\n",
    "\n",
    "We got the following data to look at [here](http://archive.ics.uci.edu/ml/machine-learning-databases/wine-quality/), the UCI repository of open data sets. It is also available in the `data` folder inside of our `day10_intro_pandas` folder. \n",
    "\n",
    "Given that our `DataFrame` is an object, we can imagine that it will have associated attributes and methods. There are a couple of each available to us to get a general sense of our data. We have two attributes that we will frequently use on our DataFrame - these will allow us to look at the shape of our data and the column names. We have four methods that are availiable on our dataframe for getting a general sense of our data: `info()`, `describe()`, `head()`, and `tail()`. Let's take a look at what these do. "
   ]
  },
  {
   "cell_type": "code",
   "execution_count": null,
   "metadata": {
    "ExecuteTime": {
     "end_time": "2020-02-04T17:30:00.216022Z",
     "start_time": "2020-02-04T17:30:00.205641Z"
    }
   },
   "outputs": [],
   "source": [
    "df = pd.read_csv('data/winequality-red.csv', delimiter=';')"
   ]
  },
  {
   "cell_type": "code",
   "execution_count": null,
   "metadata": {
    "ExecuteTime": {
     "end_time": "2020-02-04T17:28:01.250922Z",
     "start_time": "2020-02-04T17:28:01.245505Z"
    }
   },
   "outputs": [],
   "source": [
    "df.shape # Gives you the number of rows and number of columns"
   ]
  },
  {
   "cell_type": "code",
   "execution_count": null,
   "metadata": {
    "ExecuteTime": {
     "end_time": "2020-02-04T17:28:01.878885Z",
     "start_time": "2020-02-04T17:28:01.873891Z"
    }
   },
   "outputs": [],
   "source": [
    "df.columns # Gives you back a list of all of the column names. "
   ]
  },
  {
   "cell_type": "code",
   "execution_count": null,
   "metadata": {
    "ExecuteTime": {
     "end_time": "2020-02-04T17:28:02.422213Z",
     "start_time": "2020-02-04T17:28:02.410576Z"
    }
   },
   "outputs": [],
   "source": [
    "df.info() # Allows you to look at the data type for each column, and the number of null values."
   ]
  },
  {
   "cell_type": "code",
   "execution_count": null,
   "metadata": {
    "ExecuteTime": {
     "end_time": "2020-02-04T17:28:02.892044Z",
     "start_time": "2020-02-04T17:28:02.847172Z"
    }
   },
   "outputs": [],
   "source": [
    "df.describe() # Gives you summary statistics for all of your numeric columns. "
   ]
  },
  {
   "cell_type": "code",
   "execution_count": null,
   "metadata": {
    "ExecuteTime": {
     "end_time": "2020-02-04T17:28:03.703953Z",
     "start_time": "2020-02-04T17:28:03.691780Z"
    }
   },
   "outputs": [],
   "source": [
    "df.head() # Shows you the first n columns (by default n = 5)"
   ]
  },
  {
   "cell_type": "code",
   "execution_count": null,
   "metadata": {
    "ExecuteTime": {
     "end_time": "2020-02-04T17:28:04.563868Z",
     "start_time": "2020-02-04T17:28:04.550565Z"
    }
   },
   "outputs": [],
   "source": [
    "df.tail() # Shows you the last n columns (by default n = 5). "
   ]
  },
  {
   "cell_type": "markdown",
   "metadata": {},
   "source": [
    "## Grabbing your data \n",
    "\n",
    "#### The Basics\n",
    "\n",
    "We now know how to look at our data. What if we wanted to grab certain parts to look at, or certain parts to play around with/transform? Say we wanted to grab an entire row, or an entire column... how do we do that? Let's dive in by starting off with some indexing. \n",
    "\n",
    "The format we use to index into our dataframe and grab data will depend on exactly what subset of the data that we want to grab. If we want to grab entire rows or columns, then we can use bracket notation to do that (just like we use bracket notation to index into lists). If we want an entire column, then we're going to place the **column name** in brackets (and multiple column names in a list inside those brackets). We can also sometimes access a column via dot notation on the dataframe, which we'll show in a second. If we want an entire row, then we have to place **both** a **beginning and ending index** inside the brackets (it won't work to just place a single index in the brackets). "
   ]
  },
  {
   "cell_type": "code",
   "execution_count": null,
   "metadata": {
    "ExecuteTime": {
     "end_time": "2020-02-04T17:28:06.396800Z",
     "start_time": "2020-02-04T17:28:06.378165Z"
    }
   },
   "outputs": [],
   "source": [
    "# Let's take a quick look at the DataFrame that we're using to remind ourselves what it \n",
    "# looks like. \n",
    "df.head()"
   ]
  },
  {
   "cell_type": "code",
   "execution_count": null,
   "metadata": {
    "ExecuteTime": {
     "end_time": "2020-02-04T17:28:07.424456Z",
     "start_time": "2020-02-04T17:28:07.416539Z"
    },
    "scrolled": true
   },
   "outputs": [],
   "source": [
    "df['chlorides'] # Grabs the 'chlorides' column. \n",
    "df.chlorides # Also grabs the 'chlorides' column. "
   ]
  },
  {
   "cell_type": "code",
   "execution_count": null,
   "metadata": {
    "ExecuteTime": {
     "end_time": "2020-02-04T17:28:07.983125Z",
     "start_time": "2020-02-04T17:28:07.978207Z"
    }
   },
   "outputs": [],
   "source": [
    "df['volatile acidity']\n",
    "df.volatile acidity # Dot notation only works if the column name has no spaces. "
   ]
  },
  {
   "cell_type": "markdown",
   "metadata": {},
   "source": [
    "We can, however, alter the column headers to remove the spaces, at which point dot notation would work.  \n",
    "The following code shows how we can quickly, and efficiently, eliminate spaces from the column names using list comprehension:"
   ]
  },
  {
   "cell_type": "code",
   "execution_count": null,
   "metadata": {
    "ExecuteTime": {
     "end_time": "2020-02-04T17:28:12.471714Z",
     "start_time": "2020-02-04T17:28:12.460314Z"
    },
    "scrolled": true
   },
   "outputs": [],
   "source": [
    "df2 = df.copy()\n",
    "cols = df2.columns.tolist()\n",
    "cols = [col.replace(' ', '_') for col in cols]\n",
    "df2.columns = cols\n",
    "df2.volatile_acidity"
   ]
  },
  {
   "cell_type": "code",
   "execution_count": null,
   "metadata": {
    "ExecuteTime": {
     "end_time": "2020-02-04T17:28:12.919136Z",
     "start_time": "2020-02-04T17:28:12.903392Z"
    },
    "scrolled": true
   },
   "outputs": [],
   "source": [
    "# We can access all of multiple columns by passing in a list of column names. \n",
    "df[['chlorides', 'volatile acidity']]"
   ]
  },
  {
   "cell_type": "code",
   "execution_count": null,
   "metadata": {
    "ExecuteTime": {
     "end_time": "2020-02-04T17:28:14.286105Z",
     "start_time": "2020-02-04T17:28:14.271949Z"
    }
   },
   "outputs": [],
   "source": [
    "df[:3] # This will grab from the beginning up to but not including the row at index 3. "
   ]
  },
  {
   "cell_type": "code",
   "execution_count": null,
   "metadata": {
    "ExecuteTime": {
     "end_time": "2020-02-04T17:28:15.141976Z",
     "start_time": "2020-02-04T17:28:15.131069Z"
    }
   },
   "outputs": [],
   "source": [
    "# This will grab up to but not including the row at index 1 (i.e. it'll grab the row  at index 0). \n",
    "df[:1]"
   ]
  },
  {
   "cell_type": "code",
   "execution_count": null,
   "metadata": {
    "ExecuteTime": {
     "end_time": "2020-02-04T17:28:16.027775Z",
     "start_time": "2020-02-04T17:28:16.000055Z"
    },
    "scrolled": true
   },
   "outputs": [],
   "source": [
    "# This will not work because we didn't give it a starting **and** ending index.\n",
    "df[0]"
   ]
  },
  {
   "cell_type": "code",
   "execution_count": null,
   "metadata": {
    "ExecuteTime": {
     "end_time": "2020-02-04T17:28:16.455946Z",
     "start_time": "2020-02-04T17:28:16.437470Z"
    },
    "scrolled": true
   },
   "outputs": [],
   "source": [
    "# This won't work because we are trying to access a subset of rows \n",
    "# **and** columns at the same time. \n",
    "df[:1, 'volatile acidity'] "
   ]
  },
  {
   "cell_type": "markdown",
   "metadata": {},
   "source": [
    "What if we want to grab certain rows **and** certain columns, rather than just entire rows or entire columns?\n",
    "\n",
    "If we want to grab only certain rows and columns, there are three **methods** that we can use to index into a Pandas DataFrame: `loc[]`, `iloc[]`, and `ix[]`. Note that these are **methods**, which means that we will call them via dot notation on our `DataFrame` object. The difference between these three has to do with how we use them. `loc[]` is a purely label-location based indexer, `iloc[]` is a purely integer-location based indexer, and `ix[]` is a primarily label-location based indexer that falls back to integer indexing.\n",
    "\n",
    "Because of the strict restrictions on the use of `loc[]` and `iloc[]`, I typically almost always use `ix[]`. It's much more flexible. "
   ]
  },
  {
   "cell_type": "code",
   "execution_count": null,
   "metadata": {
    "ExecuteTime": {
     "end_time": "2020-02-04T17:28:23.812194Z",
     "start_time": "2020-02-04T17:28:23.795030Z"
    }
   },
   "outputs": [],
   "source": [
    "# Let's look at our data real quickly again. \n",
    "df.head()"
   ]
  },
  {
   "cell_type": "code",
   "execution_count": null,
   "metadata": {
    "ExecuteTime": {
     "end_time": "2020-02-04T17:28:24.857643Z",
     "start_time": "2020-02-04T17:28:24.852117Z"
    }
   },
   "outputs": [],
   "source": [
    "# Loc is label based. All of these will work, because they are recognized as labels on the \n",
    "# rows (index labels) or columns (column name labels). \n",
    "df.loc[0, 'fixed acidity'] # 0 is one of the index labels, and 'fixed acidity' is a column label."
   ]
  },
  {
   "cell_type": "code",
   "execution_count": null,
   "metadata": {
    "ExecuteTime": {
     "end_time": "2020-02-04T17:28:25.328115Z",
     "start_time": "2020-02-04T17:28:25.322307Z"
    }
   },
   "outputs": [],
   "source": [
    "# Ranges on our index labels still work (as long as they're numeric).\n",
    "df.loc[0:10, 'fixed acidity']"
   ]
  },
  {
   "cell_type": "code",
   "execution_count": null,
   "metadata": {
    "ExecuteTime": {
     "end_time": "2020-02-04T17:28:25.794564Z",
     "start_time": "2020-02-04T17:28:25.785089Z"
    }
   },
   "outputs": [],
   "source": [
    "df.loc[10:15, ['chlorides', 'fixed acidity']]"
   ]
  },
  {
   "cell_type": "code",
   "execution_count": null,
   "metadata": {
    "ExecuteTime": {
     "end_time": "2020-02-04T17:28:27.192681Z",
     "start_time": "2020-02-04T17:28:27.172949Z"
    },
    "scrolled": true
   },
   "outputs": [],
   "source": [
    "# These will all fail, because they attempt to access the columns by position integers, \n",
    "# and loc only takes labels. \n",
    "df.loc[0, 0]\n",
    "df.loc[0:10, 0]\n",
    "df.loc[10:15, [0, 4]]"
   ]
  },
  {
   "cell_type": "code",
   "execution_count": null,
   "metadata": {
    "ExecuteTime": {
     "end_time": "2020-02-04T17:28:28.184352Z",
     "start_time": "2020-02-04T17:28:28.173150Z"
    }
   },
   "outputs": [],
   "source": [
    "# The above will all work with .iloc, though, since it takes integers (and not labels)\n",
    "df.iloc[0, 0]\n",
    "df.iloc[0:10, 0]\n",
    "df.iloc[10:15, [0, 4]]"
   ]
  },
  {
   "cell_type": "code",
   "execution_count": null,
   "metadata": {
    "ExecuteTime": {
     "end_time": "2020-02-04T17:28:30.392475Z",
     "start_time": "2020-02-04T17:28:30.376077Z"
    },
    "scrolled": true
   },
   "outputs": [],
   "source": [
    "# Using labels, though, like we did with .loc, will NOT work. These will all fail\n",
    "df.iloc[0, 'fixed acidity']\n",
    "df.iloc[0:10, 'fixed acidity'] \n",
    "df.iloc[10:15, ['chlorides', 'fixed acidity']]"
   ]
  },
  {
   "cell_type": "code",
   "execution_count": null,
   "metadata": {
    "ExecuteTime": {
     "end_time": "2020-02-04T17:28:31.306862Z",
     "start_time": "2020-02-04T17:28:31.291457Z"
    }
   },
   "outputs": [],
   "source": [
    "# Note that anything we have tried above will work with ix[]. It's because of this flexibility \n",
    "# that I typically always use ix[]. \n",
    "df.ix[0, 'fixed acidity']\n",
    "df.ix[0:10, 'fixed acidity'] \n",
    "df.ix[10:15, ['chlorides', 'fixed acidity']]\n",
    "df.ix[0, 0]\n",
    "df.ix[0:10, 0]\n",
    "df.ix[10:15, [0, 4]]"
   ]
  },
  {
   "cell_type": "markdown",
   "metadata": {},
   "source": [
    "#### A little bit more\n",
    "\n",
    "We know how to grab certain rows or columns from dataframes, as well as a subet of rows and columns, and anything in between. But, this looks like it typically requires that the exact location of the data we want is known. What if we don't know that location? Is there a way to grab desired data by simply specifying some query parameters? Yes! \n",
    "\n",
    "There are a couple of ways that we can do this. The first way we'll look at is just through masking, whereas the second actually uses the `query()` method availiable on the Pandas DataFrame."
   ]
  },
  {
   "cell_type": "code",
   "execution_count": null,
   "metadata": {
    "ExecuteTime": {
     "end_time": "2020-02-04T17:28:33.441837Z",
     "start_time": "2020-02-04T17:28:33.424770Z"
    }
   },
   "outputs": [],
   "source": [
    "# Reminder of what our data looks like. \n",
    "df.head()"
   ]
  },
  {
   "cell_type": "code",
   "execution_count": null,
   "metadata": {
    "ExecuteTime": {
     "end_time": "2020-02-04T17:28:34.894918Z",
     "start_time": "2020-02-04T17:28:34.886859Z"
    },
    "scrolled": true
   },
   "outputs": [],
   "source": [
    "df['chlorides'] <= 0.08 # This just gives us a mask - tells us True or False whether each row \n",
    "                        # fit's the condition."
   ]
  },
  {
   "cell_type": "code",
   "execution_count": null,
   "metadata": {
    "ExecuteTime": {
     "end_time": "2020-02-04T17:28:35.757279Z",
     "start_time": "2020-02-04T17:28:35.719532Z"
    },
    "scrolled": true
   },
   "outputs": [],
   "source": [
    "# To use a mask, we actually have to use it to index into the DataFrame (using square brackets). \n",
    "df[df['chlorides'] <= 0.08]"
   ]
  },
  {
   "cell_type": "markdown",
   "metadata": {},
   "source": [
    "Notice how only the indices that were found to be True from the condition show up in this subset of the dataframe. We've \"masked\" off the rest of the indices that we're found to be False (hence the name **masking**). "
   ]
  },
  {
   "cell_type": "code",
   "execution_count": null,
   "metadata": {
    "ExecuteTime": {
     "end_time": "2020-02-04T17:28:37.489756Z",
     "start_time": "2020-02-04T17:28:37.451182Z"
    },
    "scrolled": true
   },
   "outputs": [],
   "source": [
    "# Okay, this is cool. What if I wanted a slightly more complicated query...\n",
    "df[(df['chlorides'] >= 0.04) & (df['chlorides'] < 0.08)]"
   ]
  },
  {
   "cell_type": "code",
   "execution_count": null,
   "metadata": {
    "ExecuteTime": {
     "end_time": "2020-02-04T17:28:39.272383Z",
     "start_time": "2020-02-04T17:28:39.231306Z"
    },
    "scrolled": true
   },
   "outputs": [],
   "source": [
    "# So I could write an arbitrarily complicated query using that syntax... \n",
    "df[(df['chlorides'] >= 0.04) & (df['chlorides'] < 0.08) & (df['pH'] > 3.5) & (df['pH'] < 4.00)]"
   ]
  },
  {
   "cell_type": "code",
   "execution_count": null,
   "metadata": {
    "ExecuteTime": {
     "end_time": "2020-02-04T17:28:40.648677Z",
     "start_time": "2020-02-04T17:28:40.607830Z"
    },
    "scrolled": true
   },
   "outputs": [],
   "source": [
    "# Or I could use the query() method that is available on our dataframe object. \n",
    "df.query('chlorides >= 0.04 and chlorides <= 0.08 and pH > 3.5 and pH < 4.00')"
   ]
  },
  {
   "cell_type": "markdown",
   "metadata": {},
   "source": [
    "Personally, I think this looks much better, and is a little bit easier to write! It doesn't use loads of sets of brackets (`[]`) and parentheses (`())`, but rather just one set of parentheses. It also tends to follow the Python syntax a little more closely than the mask methods that we looked at above, using `and` instead of `&` to separate different specifications on our queries. \n",
    "\n",
    "In general, it's preferred to use the `query()` method, since it improves readability. "
   ]
  },
  {
   "cell_type": "markdown",
   "metadata": {},
   "source": [
    "## A Deeper Dive\n",
    "\n",
    "What else can I do with my data? Anything! There are loads of things that we can do with our data once we've gotten it into a Pandas DataFrame. We're going to look at a couple of more things tonight, but to view all available attributes and methods of DataFrames, we can check out the [Pandas Docs](http://pandas.pydata.org/pandas-docs/stable/generated/pandas.DataFrame.html). For practical examples of how DataFrames are used, I might suggest getting a copy of [Python for Data Analysis](http://shop.oreilly.com/product/0636920023784.do) (it's written by Wes McKinney, the creator of Pandas).\n",
    "\n",
    "For those coming from R, know that the Pandas DataFrame was based off the R DataFrame, and most anything we can do with an R DataFrame, we can do with a Pandas DataFrame. For anybody coming from a SQL background, the methods available via DataFrame's give us much, if not all, of the functionality that we have available in your SQL environment. \n",
    "\n",
    "\n",
    "#### Groupby\n",
    "\n",
    "Let's start with `groupby`s..."
   ]
  },
  {
   "cell_type": "code",
   "execution_count": null,
   "metadata": {
    "ExecuteTime": {
     "end_time": "2020-02-04T17:30:19.268859Z",
     "start_time": "2020-02-04T17:30:19.251190Z"
    },
    "scrolled": true
   },
   "outputs": [],
   "source": [
    "# Remind ourselves of the data. \n",
    "df.head()"
   ]
  },
  {
   "cell_type": "code",
   "execution_count": null,
   "metadata": {
    "ExecuteTime": {
     "end_time": "2020-02-04T17:30:22.597189Z",
     "start_time": "2020-02-04T17:30:22.591665Z"
    }
   },
   "outputs": [],
   "source": [
    "# Quality looks like something we might want to group by. Let's check it out in a little \n",
    "# more detail first, though. \n",
    "df['quality'].unique()"
   ]
  },
  {
   "cell_type": "code",
   "execution_count": null,
   "metadata": {
    "ExecuteTime": {
     "end_time": "2020-02-04T17:30:24.414377Z",
     "start_time": "2020-02-04T17:30:24.408505Z"
    }
   },
   "outputs": [],
   "source": [
    "df.groupby('quality') # Note that this returns back to us a groupby object. It doesn't actually \n",
    "                      # return to us anything useful until we perform some aggregation on it. "
   ]
  },
  {
   "cell_type": "code",
   "execution_count": null,
   "metadata": {
    "ExecuteTime": {
     "end_time": "2020-02-04T17:30:26.732537Z",
     "start_time": "2020-02-04T17:30:26.714680Z"
    }
   },
   "outputs": [],
   "source": [
    "# We have tons of aggregation metrics we can get from a groupby object. Note here that we \n",
    "# store the results of a groupby below to then perform all kinds of operations on it (this is \n",
    "# actually the preferred method if we're going to perform more than one calculation\n",
    "# on it). We have tons of operations we can perform on it. \n",
    "groupby_obj = df.groupby('quality')\n",
    "print(groupby_obj.mean())\n",
    "groupby_obj.max()\n",
    "groupby_obj.count()"
   ]
  },
  {
   "cell_type": "code",
   "execution_count": null,
   "metadata": {
    "ExecuteTime": {
     "end_time": "2020-02-04T17:30:29.397001Z",
     "start_time": "2020-02-04T17:30:29.389491Z"
    }
   },
   "outputs": [],
   "source": [
    "# The previous aggregation metrics gave us back a DataFrame with all of the columns minus what \n",
    "# we grouped on. Notice that what we grouped on becomes the index. What if I wanted only one \n",
    "# column back (especially with something like count, where it is the same\n",
    "# for every column)? Well, we can do anything with this DataFrame that we did before...\n",
    "df.groupby('quality').count()['fixed acidity']"
   ]
  },
  {
   "cell_type": "code",
   "execution_count": null,
   "metadata": {
    "ExecuteTime": {
     "end_time": "2020-02-04T17:30:31.084456Z",
     "start_time": "2020-02-04T17:30:31.070542Z"
    },
    "scrolled": true
   },
   "outputs": [],
   "source": [
    "# Note we can also group by multilple columns by passing them in in a list. It will group by \n",
    "# the first column passed in first, and then the second after that (i.e. it will group by \n",
    "# the second within the group by of the first). \n",
    "df.groupby(['pH', 'quality']).count()['chlorides']"
   ]
  },
  {
   "cell_type": "markdown",
   "metadata": {},
   "source": [
    "Check out the [Group By documentation](http://pandas.pydata.org/pandas-docs/stable/groupby.html) to look at what all you can do with the Pandas .groupby().\n",
    "\n",
    "#### Sorting \n",
    "\n",
    "Sorting is going to work much the same way as group bying. It is going to be available via a method that we call on the dataframe, `.sort_values()`, and we are going to pass it a column or columns to sort by. "
   ]
  },
  {
   "cell_type": "code",
   "execution_count": null,
   "metadata": {
    "ExecuteTime": {
     "end_time": "2020-02-04T17:30:35.256983Z",
     "start_time": "2020-02-04T17:30:35.217028Z"
    },
    "scrolled": true
   },
   "outputs": [],
   "source": [
    "df.sort_values('quality') # Note: this is ascending by default.\n",
    "df.sort_values('quality', ascending=False)"
   ]
  },
  {
   "cell_type": "code",
   "execution_count": null,
   "metadata": {
    "ExecuteTime": {
     "end_time": "2020-02-04T17:30:36.722997Z",
     "start_time": "2020-02-04T17:30:36.682008Z"
    },
    "scrolled": true
   },
   "outputs": [],
   "source": [
    "# Note that we can sort by multiple columns by placing them in a list inside of the sort()\n",
    "# method. It will sort by the first column passed in first, and then the second within the \n",
    "# sort of the first. \n",
    "df.sort_values(['quality', 'alcohol'], ascending=False) # ascending=False will apply to both columns. "
   ]
  },
  {
   "cell_type": "markdown",
   "metadata": {},
   "source": [
    "#### Creating and Dropping Columns\n",
    "\n",
    "Creating columns is done in one of two ways: \n",
    "1. Using bracket notation\n",
    "2. Using the `eval()` method on the Pandas DataFrame. \n",
    "\n",
    "Dropping columns is done using the `df.drop()` method on the Pandas DataFrame. When dropping columns, we have to be careful to make sure to tell the DataFrame to drop them in place, or assign the DataFrame with dropped columns to a new variable. You also need to make sure to tell the `drop()` method what axis the thing you're trying to drop is on (rows are `axis=0`, and columns are `axis=1`)."
   ]
  },
  {
   "cell_type": "code",
   "execution_count": null,
   "metadata": {
    "ExecuteTime": {
     "end_time": "2020-02-04T10:39:47.868346Z",
     "start_time": "2020-02-04T10:39:47.849659Z"
    }
   },
   "outputs": [],
   "source": [
    "# View our DataFrame to remember what it looks like.\n",
    "df.head()"
   ]
  },
  {
   "cell_type": "code",
   "execution_count": null,
   "metadata": {
    "ExecuteTime": {
     "end_time": "2020-02-04T10:39:48.906188Z",
     "start_time": "2020-02-04T10:39:48.903443Z"
    }
   },
   "outputs": [],
   "source": [
    "# How would I create a column, using bracket notation, that is equal to the amount of \n",
    "# non-free sulfur dioxide?\n"
   ]
  },
  {
   "cell_type": "code",
   "execution_count": null,
   "metadata": {
    "ExecuteTime": {
     "end_time": "2020-02-04T17:31:21.349354Z",
     "start_time": "2020-02-04T17:31:21.332739Z"
    },
    "scrolled": true
   },
   "outputs": [],
   "source": [
    "# Typically, we don't name columns with spaces in them because they are a little tricky \n",
    "# to work with. \n",
    "df.rename(columns={'total sulfur dioxide': 'total_sulfur_dioxide', \n",
    "                   'free sulfur dioxide': 'free_sulfur_dioxide' }, inplace=True)\n",
    "df.head()"
   ]
  },
  {
   "cell_type": "code",
   "execution_count": null,
   "metadata": {
    "ExecuteTime": {
     "end_time": "2020-02-04T17:35:05.295653Z",
     "start_time": "2020-02-04T17:35:05.287295Z"
    }
   },
   "outputs": [],
   "source": [
    "df.eval('non_free_sulfur2 = total_sulfur_dioxide - free_sulfur_dioxide', inplace = True)\n"
   ]
  },
  {
   "cell_type": "code",
   "execution_count": null,
   "metadata": {
    "ExecuteTime": {
     "end_time": "2020-02-04T17:35:12.046781Z",
     "start_time": "2020-02-04T17:35:12.005458Z"
    },
    "scrolled": true
   },
   "outputs": [],
   "source": [
    "df.drop('non_free_sulfur2', axis=1)"
   ]
  },
  {
   "cell_type": "code",
   "execution_count": null,
   "metadata": {
    "ExecuteTime": {
     "end_time": "2020-02-04T17:35:21.034216Z",
     "start_time": "2020-02-04T17:35:21.028797Z"
    }
   },
   "outputs": [],
   "source": [
    "df.columns # Wait, the non_free_sulfur2 column is still there... why? \n",
    "           # It's because we didn't tell it drop inplace. "
   ]
  },
  {
   "cell_type": "code",
   "execution_count": null,
   "metadata": {
    "ExecuteTime": {
     "end_time": "2020-02-04T17:35:25.421746Z",
     "start_time": "2020-02-04T17:35:25.416726Z"
    }
   },
   "outputs": [],
   "source": [
    "df.drop('non_free_sulfur2', inplace=True, axis=1) # Note the axis=1 argument telling them we're\n",
    "                                                  # dropping a column. "
   ]
  },
  {
   "cell_type": "code",
   "execution_count": null,
   "metadata": {
    "ExecuteTime": {
     "end_time": "2020-02-04T17:35:27.879369Z",
     "start_time": "2020-02-04T17:35:27.874348Z"
    }
   },
   "outputs": [],
   "source": [
    "df.columns"
   ]
  },
  {
   "cell_type": "markdown",
   "metadata": {},
   "source": [
    "### Dealing with Nulls\n",
    "\n",
    "Pandas has functions for both filling nulls (or N/As) with whatever value we want, or dropping nulls all together. To fill nulls, we use the `.fillna()` method on the DataFrame, and to drop nulls, we call the `.dropna()` method on the DataFrame. In terms of the `.fillna()` function, we can give it a default value to fill in, or a number of other methods to fill it in (padding, back filling, foward filling). You can read about dealing with missing data in the docs [here](http://pandas.pydata.org/pandas-docs/stable/missing_data.html#cleaning-filling-missing-data). We're not going to go into too much depth here, but want you to know that this functionality exists. "
   ]
  },
  {
   "cell_type": "code",
   "execution_count": null,
   "metadata": {},
   "outputs": [],
   "source": [
    "df.fillna(-1, inplace=True)\n",
    "df.dropna(inplace=True) # Notice the addition of the inplace argument here. "
   ]
  },
  {
   "cell_type": "markdown",
   "metadata": {},
   "source": [
    "## A quick aside on Pandas Series\n",
    "\n",
    "You might have noticed that in a couple of places, when we asked for certain rows/columns of the data, we got back a 1-D array that had an index attached. These are examples of what Pandas calls `Series`. In the documentation for [Pandas Series](http://pandas.pydata.org/pandas-docs/version/0.15.2/dsintro.html#series), you can get an idea of what they can do. For the most part, we can kind of treat them like a mini DataFrame, as they have a lot of the same methods. However, there are some slight differences. Since we work with DataFrame's the majority of the time, we're not going to go into any real depth on Series. \n",
    "\n",
    "Here are some examples of things that returned series: "
   ]
  },
  {
   "cell_type": "code",
   "execution_count": null,
   "metadata": {
    "scrolled": true
   },
   "outputs": [],
   "source": [
    "df['chlorides'] <= 0.08"
   ]
  },
  {
   "cell_type": "code",
   "execution_count": null,
   "metadata": {},
   "outputs": [],
   "source": [
    "type(df['chlorides'] <= 0.08)"
   ]
  },
  {
   "cell_type": "code",
   "execution_count": null,
   "metadata": {},
   "outputs": [],
   "source": [
    "df.groupby('quality').count()['fixed acidity']"
   ]
  },
  {
   "cell_type": "code",
   "execution_count": null,
   "metadata": {},
   "outputs": [],
   "source": []
  }
 ],
 "metadata": {
  "kernelspec": {
   "display_name": "Python 3",
   "language": "python",
   "name": "python3"
  },
  "language_info": {
   "codemirror_mode": {
    "name": "ipython",
    "version": 3
   },
   "file_extension": ".py",
   "mimetype": "text/x-python",
   "name": "python",
   "nbconvert_exporter": "python",
   "pygments_lexer": "ipython3",
   "version": "3.7.4"
  },
  "toc": {
   "base_numbering": 1,
   "nav_menu": {},
   "number_sections": true,
   "sideBar": true,
   "skip_h1_title": false,
   "title_cell": "Table of Contents",
   "title_sidebar": "Contents",
   "toc_cell": false,
   "toc_position": {},
   "toc_section_display": true,
   "toc_window_display": false
  },
  "varInspector": {
   "cols": {
    "lenName": 16,
    "lenType": 16,
    "lenVar": 40
   },
   "kernels_config": {
    "python": {
     "delete_cmd_postfix": "",
     "delete_cmd_prefix": "del ",
     "library": "var_list.py",
     "varRefreshCmd": "print(var_dic_list())"
    },
    "r": {
     "delete_cmd_postfix": ") ",
     "delete_cmd_prefix": "rm(",
     "library": "var_list.r",
     "varRefreshCmd": "cat(var_dic_list()) "
    }
   },
   "types_to_exclude": [
    "module",
    "function",
    "builtin_function_or_method",
    "instance",
    "_Feature"
   ],
   "window_display": false
  }
 },
 "nbformat": 4,
 "nbformat_minor": 1
}

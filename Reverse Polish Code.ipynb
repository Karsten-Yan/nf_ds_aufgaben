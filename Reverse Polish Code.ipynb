{
 "cells": [
  {
   "cell_type": "code",
   "execution_count": 119,
   "metadata": {},
   "outputs": [],
   "source": [
    "rpc_test =\"6 5 3 + 4 / + 3 -\"\n",
    "\n",
    "rpc_test2 = \"6 6 5 3 + 4 / + 3 -\"\n",
    "\n",
    "rpc_test3=\"6 5 + 3 + 4 / + 3 -\"\n",
    "\n",
    "rpc_test4=\"5 2 %\"\n",
    "\n",
    "def rpc(string):\n",
    "    op=[\"+\",\"/\",\"*\",\"-\"]\n",
    "    result=[]\n",
    "    calc_list = string.split()\n",
    "    calc = True\n",
    "    for i in calc_list:\n",
    "        if i not in op:\n",
    "            result.append(float(i))\n",
    "        else:\n",
    "            if len(result) < 2:\n",
    "                print(\"zuviele operatoren\")\n",
    "                calc = False\n",
    "                break\n",
    "            op1=result.pop()\n",
    "            op2=result.pop()\n",
    "            if i == \"+\":\n",
    "                result.append(op2+op1)\n",
    "            if i == \"-\":\n",
    "                result.append(op2-op1)\n",
    "            if i == \"*\":\n",
    "                result.append(op2*op1)\n",
    "            if i == \"/\":\n",
    "                result.append(op2/op1)\n",
    "    if len(result) > 1:\n",
    "        print(\"zuviele zahlen\")\n",
    "    elif calc == True:\n",
    "        return result.pop()\n",
    "    "
   ]
  },
  {
   "cell_type": "code",
   "execution_count": 120,
   "metadata": {},
   "outputs": [],
   "source": [
    "def rpc(string):\n",
    "    op=[\"+\",\"/\",\"*\",\"-\",\"%\"]\n",
    "    result=[]\n",
    "    calc_list = string.split()\n",
    "    for i in calc_list:\n",
    "        if i not in op:\n",
    "            try:\n",
    "                float(i)\n",
    "            except ValueError:\n",
    "                return print(\"du hast n buchstaben eingegeben!\")\n",
    "            result.append(float(i))\n",
    "        else:\n",
    "            if len(result) < 2:\n",
    "                return print(\"zuviele operatoren\")\n",
    "            op1=result.pop()\n",
    "            op2=result.pop()\n",
    "            result.append(eval(\"op2\"+i+\"op1\"))\n",
    "    if len(result) > 1:\n",
    "        return print(\"zuviele zahlen\")\n",
    "    else:\n",
    "        return result.pop()"
   ]
  },
  {
   "cell_type": "code",
   "execution_count": 121,
   "metadata": {},
   "outputs": [
    {
     "data": {
      "text/plain": [
       "5.0"
      ]
     },
     "execution_count": 121,
     "metadata": {},
     "output_type": "execute_result"
    }
   ],
   "source": [
    "rpc(rpc_test)"
   ]
  },
  {
   "cell_type": "code",
   "execution_count": 71,
   "metadata": {},
   "outputs": [
    {
     "name": "stdout",
     "output_type": "stream",
     "text": [
      "zuviele zahlen\n"
     ]
    }
   ],
   "source": [
    "rpc(rpc_test2)"
   ]
  },
  {
   "cell_type": "code",
   "execution_count": 72,
   "metadata": {},
   "outputs": [
    {
     "name": "stdout",
     "output_type": "stream",
     "text": [
      "zuviele operatoren\n"
     ]
    }
   ],
   "source": [
    "rpc(rpc_test3)"
   ]
  },
  {
   "cell_type": "code",
   "execution_count": 76,
   "metadata": {},
   "outputs": [
    {
     "data": {
      "text/plain": [
       "6"
      ]
     },
     "execution_count": 76,
     "metadata": {},
     "output_type": "execute_result"
    }
   ],
   "source": [
    "eval"
   ]
  },
  {
   "cell_type": "code",
   "execution_count": 102,
   "metadata": {},
   "outputs": [],
   "source": [
    "a=\"1.5\""
   ]
  },
  {
   "cell_type": "code",
   "execution_count": 105,
   "metadata": {},
   "outputs": [
    {
     "data": {
      "text/plain": [
       "False"
      ]
     },
     "execution_count": 105,
     "metadata": {},
     "output_type": "execute_result"
    }
   ],
   "source": [
    "a.is()"
   ]
  },
  {
   "cell_type": "code",
   "execution_count": 169,
   "metadata": {},
   "outputs": [],
   "source": [
    "def rpc():\n",
    "    while True:\n",
    "        valid=True\n",
    "        string=input(\"Gib hier deine gleichung in RPN ein (gib nichts ein um aufzuhören):\")\n",
    "        if string == \"\":\n",
    "            break\n",
    "        op=[\"+\",\"/\",\"*\",\"-\",\"%\"]\n",
    "        result=[]\n",
    "        calc_list = string.split()\n",
    "        for i in calc_list:\n",
    "            if i not in op:\n",
    "                try:\n",
    "                    float(i)\n",
    "                except ValueError:\n",
    "                    print(\"du hast n buchstaben eingegeben!\")\n",
    "                    valid=False\n",
    "                    break\n",
    "                result.append(float(i))\n",
    "            else:\n",
    "                if len(result) < 2:\n",
    "                    print(\"zuviele operatoren\")\n",
    "                    valid=False\n",
    "                    break\n",
    "                op1=result.pop()\n",
    "                op2=result.pop()\n",
    "                result.append(eval(\"op2\"+i+\"op1\"))\n",
    "        if len(result) > 1:\n",
    "            print(\"zuviele zahlen\")\n",
    "            valid=False\n",
    "        elif len(result) == 1 and valid == True:\n",
    "            print( result.pop())"
   ]
  },
  {
   "cell_type": "code",
   "execution_count": 170,
   "metadata": {},
   "outputs": [
    {
     "name": "stdout",
     "output_type": "stream",
     "text": [
      "Gib hier deine gleichung in RPN ein (gib nichts ein um aufzuhören):2 2 + A\n",
      "du hast n buchstaben eingegeben!\n",
      "Gib hier deine gleichung in RPN ein (gib nichts ein um aufzuhören):2 -2 +\n",
      "0.0\n",
      "Gib hier deine gleichung in RPN ein (gib nichts ein um aufzuhören):\n"
     ]
    }
   ],
   "source": [
    "rpc()"
   ]
  },
  {
   "cell_type": "code",
   "execution_count": 129,
   "metadata": {},
   "outputs": [
    {
     "name": "stdout",
     "output_type": "stream",
     "text": [
      "1\n"
     ]
    }
   ],
   "source": [
    "string=[]\n",
    "string.append(input())"
   ]
  },
  {
   "cell_type": "code",
   "execution_count": 161,
   "metadata": {},
   "outputs": [
    {
     "data": {
      "text/plain": [
       "3.0"
      ]
     },
     "execution_count": 161,
     "metadata": {},
     "output_type": "execute_result"
    }
   ],
   "source": [
    "eval(\"1.5 + 1.5\")"
   ]
  },
  {
   "cell_type": "code",
   "execution_count": 248,
   "metadata": {},
   "outputs": [],
   "source": [
    "class ReversePolishCalculator():\n",
    "    \n",
    "    def __init__(self):\n",
    "        self.stack = []\n",
    "        self.string = \"\"\n",
    "        self.op=[\"+\",\"/\",\"*\",\"-\",\"%\"]\n",
    "        self.calc_list = []\n",
    "        self.terminate = True\n",
    "        \n",
    "    def start_calc(self):\n",
    "        while self.terminate:\n",
    "            self.calculate()\n",
    "            \n",
    "            \n",
    "    def calculate(self):\n",
    "        #print(self.stack)\n",
    "        valid=True\n",
    "        self.string=input(\"RPN input (q to quit, s to show stack, c to clear stack):\")\n",
    "        if self.string == \"q\":\n",
    "            self.terminate_calc()\n",
    "            valid = False\n",
    "        if self.string == \"s\":\n",
    "            print(self.stack)\n",
    "            valid = False\n",
    "        if self.string == \"c\":\n",
    "            self.stack = []\n",
    "            valid = False\n",
    "        self.calc_list = self.string.split()\n",
    "        if valid == True:\n",
    "            for i in self.calc_list:\n",
    "                if i not in self.op:\n",
    "                    try:\n",
    "                        float(i)\n",
    "                    except ValueError:\n",
    "                        print(\"du hast n buchstaben eingegeben!\")\n",
    "                        valid=False\n",
    "                    if valid == True:\n",
    "                        self.stack.append(float(i))\n",
    "                else:\n",
    "                    if len(self.stack) < 2:\n",
    "                        print(\"zuviele operatoren\")\n",
    "                        valid=False\n",
    "                    op1=self.stack.pop()\n",
    "                    op2=self.stack.pop()\n",
    "                    self.stack.append(eval(\"op2\"+i+\"op1\"))\n",
    "        if len(self.stack) == 1 and valid == True:\n",
    "            print(self.stack[0])\n",
    "            \n",
    "    def terminate_calc(self):\n",
    "        self.terminate = False"
   ]
  },
  {
   "cell_type": "code",
   "execution_count": 249,
   "metadata": {},
   "outputs": [],
   "source": [
    "rpc=ReversePolishCalculator()"
   ]
  },
  {
   "cell_type": "code",
   "execution_count": 250,
   "metadata": {},
   "outputs": [
    {
     "name": "stdout",
     "output_type": "stream",
     "text": [
      "RPN input (q to quit, s to show stack, c to clear stack):2 3 2\n",
      "RPN input (q to quit, s to show stack, c to clear stack):s\n",
      "[2.0, 3.0, 2.0]\n",
      "RPN input (q to quit, s to show stack, c to clear stack):* /\n",
      "0.3333333333333333\n",
      "RPN input (q to quit, s to show stack, c to clear stack):q\n"
     ]
    }
   ],
   "source": [
    "rpc.start_calc()"
   ]
  },
  {
   "cell_type": "code",
   "execution_count": null,
   "metadata": {},
   "outputs": [],
   "source": []
  }
 ],
 "metadata": {
  "kernelspec": {
   "display_name": "Python 3",
   "language": "python",
   "name": "python3"
  },
  "language_info": {
   "codemirror_mode": {
    "name": "ipython",
    "version": 3
   },
   "file_extension": ".py",
   "mimetype": "text/x-python",
   "name": "python",
   "nbconvert_exporter": "python",
   "pygments_lexer": "ipython3",
   "version": "3.6.10"
  }
 },
 "nbformat": 4,
 "nbformat_minor": 4
}

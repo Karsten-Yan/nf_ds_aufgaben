{
 "cells": [
  {
   "cell_type": "markdown",
   "metadata": {},
   "source": [
    "# Logistic Regression - Exercise"
   ]
  },
  {
   "cell_type": "markdown",
   "metadata": {},
   "source": [
    "## Data Dictionary "
   ]
  },
  {
   "cell_type": "code",
   "execution_count": 1,
   "metadata": {
    "collapsed": true
   },
   "outputs": [],
   "source": [
    "# Please import kid.csv, you'll find it in the data folder"
   ]
  },
  {
   "cell_type": "markdown",
   "metadata": {},
   "source": [
    "Here are the variables that magazine reseller has on each customer from third-party sources:\n",
    "Household Income (Income; rounded to the nearest $1,000.00)\n",
    "\n",
    "Gender (IsFemale = 1 if the person is female, 0 otherwise)\n",
    "\n",
    "Marital Status (IsMarried = 1 if married, 0 otherwise)\n",
    "\n",
    "College Educated (HasCollege = 1 if has one or more years of college education, 0 otherwise)\n",
    "\n",
    "Employed in a Profession (IsProfessional = 1 if employed in a profession, 0 otherwise)\n",
    "\n",
    "Retired (IsRetired = 1 if retired, 0 otherwise)\n",
    "\n",
    "Not employed (Unemployed = 1 if not employed, 0 otherwise)\n",
    "\n",
    "Length of Residency in Current City (ResLength; in years)\n",
    "\n",
    "Dual Income if Married (Dual = 1 if dual income, 0 otherwise)\n",
    "\n",
    "Children (Minors = 1 if children under 18 are in the household, 0 otherwise)\n",
    "\n",
    "Home ownership (Own = 1 if own residence, 0 otherwise)\n",
    "\n",
    "Resident type (House = 1 if the residence is a single-family house, 0 otherwise)\n",
    "\n",
    "Race (White = 1 if the race is white, 0 otherwise)\n",
    "\n",
    "Language (English = 1 is the primary language in the household is English, 0 otherwise)\n",
    "\n",
    "With this dataset, we will be building a binary classification model which will take above inputs as features and predict if the customer will buy the magazine or not. At last, we’ll evaluate our model using the confusion matrix."
   ]
  },
  {
   "cell_type": "code",
   "execution_count": null,
   "metadata": {
    "collapsed": true
   },
   "outputs": [],
   "source": []
  }
 ],
 "metadata": {
  "kernelspec": {
   "display_name": "Python [conda env:ds1]",
   "language": "python",
   "name": "conda-env-ds1-py"
  },
  "language_info": {
   "codemirror_mode": {
    "name": "ipython",
    "version": 3
   },
   "file_extension": ".py",
   "mimetype": "text/x-python",
   "name": "python",
   "nbconvert_exporter": "python",
   "pygments_lexer": "ipython3",
   "version": "3.6.10"
  },
  "toc": {
   "base_numbering": 1,
   "nav_menu": {},
   "number_sections": true,
   "sideBar": true,
   "skip_h1_title": false,
   "title_cell": "Table of Contents",
   "title_sidebar": "Contents",
   "toc_cell": false,
   "toc_position": {},
   "toc_section_display": true,
   "toc_window_display": false
  },
  "varInspector": {
   "cols": {
    "lenName": 16,
    "lenType": 16,
    "lenVar": 40
   },
   "kernels_config": {
    "python": {
     "delete_cmd_postfix": "",
     "delete_cmd_prefix": "del ",
     "library": "var_list.py",
     "varRefreshCmd": "print(var_dic_list())"
    },
    "r": {
     "delete_cmd_postfix": ") ",
     "delete_cmd_prefix": "rm(",
     "library": "var_list.r",
     "varRefreshCmd": "cat(var_dic_list()) "
    }
   },
   "types_to_exclude": [
    "module",
    "function",
    "builtin_function_or_method",
    "instance",
    "_Feature"
   ],
   "window_display": false
  }
 },
 "nbformat": 4,
 "nbformat_minor": 2
}

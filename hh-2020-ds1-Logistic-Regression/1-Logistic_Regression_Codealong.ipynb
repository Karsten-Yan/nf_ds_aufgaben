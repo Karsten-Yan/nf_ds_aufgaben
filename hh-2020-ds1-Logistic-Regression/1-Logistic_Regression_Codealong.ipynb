{
 "cells": [
  {
   "cell_type": "markdown",
   "metadata": {},
   "source": [
    "# Logistic Regression codealong\n",
    "\n",
    "In this **codealong** you will see how logistic regression works very graphically. "
   ]
  },
  {
   "cell_type": "code",
   "execution_count": 14,
   "metadata": {
    "ExecuteTime": {
     "end_time": "2020-02-17T08:16:30.694758Z",
     "start_time": "2020-02-17T08:16:30.565671Z"
    }
   },
   "outputs": [],
   "source": [
    "from sklearn.datasets import make_classification\n",
    "from matplotlib import pyplot as plt\n",
    "from sklearn.linear_model import LogisticRegression\n",
    "import seaborn as sns\n",
    "sns.set()\n",
    "from sklearn.model_selection import train_test_split\n",
    "from sklearn.metrics import confusion_matrix\n",
    "import pandas as pd"
   ]
  },
  {
   "cell_type": "code",
   "execution_count": 15,
   "metadata": {
    "ExecuteTime": {
     "end_time": "2020-02-17T08:16:31.186270Z",
     "start_time": "2020-02-17T08:16:31.182958Z"
    }
   },
   "outputs": [],
   "source": [
    "# Next, we’ll take advantage of the make_classification function from the scikit-learn library to generate data. As we mentioned previously, \n",
    "#Logistic Regression is only applicable to binary classification problems. \n",
    "#Thus, the data points are composed of two classes."
   ]
  },
  {
   "cell_type": "code",
   "execution_count": 16,
   "metadata": {
    "ExecuteTime": {
     "end_time": "2020-02-17T08:16:31.544357Z",
     "start_time": "2020-02-17T08:16:31.484773Z"
    }
   },
   "outputs": [],
   "source": [
    "x, y = make_classification(\n",
    "    n_samples=100,\n",
    "    n_features=1,\n",
    "    n_classes=2,\n",
    "    n_clusters_per_class=1,\n",
    "    flip_y=0.03,\n",
    "    n_informative=1,\n",
    "    n_redundant=0,\n",
    "    n_repeated=0\n",
    ")"
   ]
  },
  {
   "cell_type": "code",
   "execution_count": 17,
   "metadata": {
    "ExecuteTime": {
     "end_time": "2020-02-17T08:16:32.678351Z",
     "start_time": "2020-02-17T08:16:32.022252Z"
    }
   },
   "outputs": [
    {
     "data": {
      "text/plain": [
       "<matplotlib.collections.PathCollection at 0x1a1f8d5748>"
      ]
     },
     "execution_count": 17,
     "metadata": {},
     "output_type": "execute_result"
    },
    {
     "data": {
      "image/png": "[encoded data removed]",
      "text/plain": [
       "<Figure size 432x288 with 1 Axes>"
      ]
     },
     "metadata": {},
     "output_type": "display_data"
    }
   ],
   "source": [
    "# We plot the relationship between the feature and classes.\n",
    "plt.scatter(x, y, c=y, cmap='rainbow')"
   ]
  },
  {
   "cell_type": "code",
   "execution_count": 18,
   "metadata": {
    "ExecuteTime": {
     "end_time": "2020-02-17T08:16:32.808308Z",
     "start_time": "2020-02-17T08:16:32.786525Z"
    }
   },
   "outputs": [],
   "source": [
    "#Prior to training our model, we’ll set aside a portion of our data in order to evaluate its performance.\n",
    "x_train, x_test, y_train, y_test = train_test_split(x, y, random_state=1)"
   ]
  },
  {
   "cell_type": "code",
   "execution_count": 19,
   "metadata": {
    "ExecuteTime": {
     "end_time": "2020-02-17T08:16:32.988583Z",
     "start_time": "2020-02-17T08:16:32.913018Z"
    }
   },
   "outputs": [
    {
     "data": {
      "text/plain": [
       "LogisticRegression(C=1.0, class_weight=None, dual=False, fit_intercept=True,\n",
       "                   intercept_scaling=1, l1_ratio=None, max_iter=100,\n",
       "                   multi_class='auto', n_jobs=None, penalty='l2',\n",
       "                   random_state=None, solver='lbfgs', tol=0.0001, verbose=0,\n",
       "                   warm_start=False)"
      ]
     },
     "execution_count": 19,
     "metadata": {},
     "output_type": "execute_result"
    }
   ],
   "source": [
    "# We instantiate an instance of the LogisticRegression class and call the fit function with the features and the labels (since Logistic Regression is a\n",
    "#supervised machine learning algorithm) as arguments.\n",
    "\n",
    "lr = LogisticRegression()\n",
    "lr.fit(x_train, y_train)"
   ]
  },
  {
   "cell_type": "code",
   "execution_count": 20,
   "metadata": {
    "ExecuteTime": {
     "end_time": "2020-02-17T08:16:33.644807Z",
     "start_time": "2020-02-17T08:16:33.638934Z"
    }
   },
   "outputs": [
    {
     "name": "stdout",
     "output_type": "stream",
     "text": [
      "[[2.99529084]]\n",
      "[0.56685521]\n"
     ]
    }
   ],
   "source": [
    "#We can access the following properties to actually view the coefficient for the slope and y-intercept of the best fitting line.\n",
    "print(lr.coef_)\n",
    "print(lr.intercept_)"
   ]
  },
  {
   "cell_type": "code",
   "execution_count": 21,
   "metadata": {
    "ExecuteTime": {
     "end_time": "2020-02-17T08:16:34.698884Z",
     "start_time": "2020-02-17T08:16:34.693959Z"
    }
   },
   "outputs": [],
   "source": [
    "# Let’s see how the model performs against data that it hasn’t been trained on."
   ]
  },
  {
   "cell_type": "code",
   "execution_count": 22,
   "metadata": {
    "ExecuteTime": {
     "end_time": "2020-02-17T08:16:35.207168Z",
     "start_time": "2020-02-17T08:16:35.202112Z"
    }
   },
   "outputs": [],
   "source": [
    "y_pred = lr.predict(x_test)"
   ]
  },
  {
   "cell_type": "code",
   "execution_count": 23,
   "metadata": {
    "ExecuteTime": {
     "end_time": "2020-02-17T08:16:35.973216Z",
     "start_time": "2020-02-17T08:16:35.951808Z"
    }
   },
   "outputs": [
    {
     "data": {
      "text/plain": [
       "array([[17,  0],\n",
       "       [ 0,  8]])"
      ]
     },
     "execution_count": 23,
     "metadata": {},
     "output_type": "execute_result"
    }
   ],
   "source": [
    "# Given that this consists of a classification problem, \n",
    "#we use a confusion matrix to measure the accuracy of our model.\n",
    "\n",
    "confusion_matrix(y_test, y_pred)\n"
   ]
  },
  {
   "cell_type": "code",
   "execution_count": 24,
   "metadata": {
    "ExecuteTime": {
     "end_time": "2020-02-17T08:16:37.533643Z",
     "start_time": "2020-02-17T08:16:37.526492Z"
    }
   },
   "outputs": [
    {
     "data": {
      "text/plain": [
       "array([[0.04328799, 0.95671201],\n",
       "       [0.90469305, 0.09530695],\n",
       "       [0.03840191, 0.96159809],\n",
       "       [0.90840226, 0.09159774],\n",
       "       [0.00267465, 0.99732535],\n",
       "       [0.00656531, 0.99343469],\n",
       "       [0.92793094, 0.07206906],\n",
       "       [0.0869285 , 0.9130715 ],\n",
       "       [0.02248093, 0.97751907],\n",
       "       [0.90330898, 0.09669102],\n",
       "       [0.92717745, 0.07282255],\n",
       "       [0.94129274, 0.05870726],\n",
       "       [0.03328123, 0.96671877],\n",
       "       [0.0144586 , 0.9855414 ],\n",
       "       [0.93308806, 0.06691194],\n",
       "       [0.92392556, 0.07607444],\n",
       "       [0.89603692, 0.10396308],\n",
       "       [0.91483727, 0.08516273],\n",
       "       [0.90925068, 0.09074932],\n",
       "       [0.9121001 , 0.0878999 ],\n",
       "       [0.93446094, 0.06553906],\n",
       "       [0.91676937, 0.08323063],\n",
       "       [0.92384396, 0.07615604],\n",
       "       [0.89589081, 0.10410919],\n",
       "       [0.931536  , 0.068464  ]])"
      ]
     },
     "execution_count": 24,
     "metadata": {},
     "output_type": "execute_result"
    }
   ],
   "source": [
    "# If for whatever reason we’d like to check the actual probability that a data \n",
    "#point belongs to a given class, \n",
    "#we can use the predict_proba function.\n",
    "\n",
    "lr.predict_proba(x_test)"
   ]
  },
  {
   "cell_type": "code",
   "execution_count": 25,
   "metadata": {
    "ExecuteTime": {
     "end_time": "2020-02-17T08:50:44.954675Z",
     "start_time": "2020-02-17T08:50:44.949526Z"
    }
   },
   "outputs": [],
   "source": [
    "# The first column corresponds to the \n",
    "#probability that the sample belongs to the first class and the\n",
    "#second column corresponds to the probability that the \n",
    "#sample belongs to the second class.\n",
    "#Before attempting to plot the Sigmoid function, we create and sort a DataFrame containing our test data."
   ]
  },
  {
   "cell_type": "code",
   "execution_count": 26,
   "metadata": {
    "ExecuteTime": {
     "end_time": "2020-02-17T08:50:45.583165Z",
     "start_time": "2020-02-17T08:50:45.181491Z"
    }
   },
   "outputs": [
    {
     "data": {
      "text/plain": [
       "<matplotlib.collections.PathCollection at 0x1a1f9b8cf8>"
      ]
     },
     "execution_count": 26,
     "metadata": {},
     "output_type": "execute_result"
    },
    {
     "data": {
      "image/png": "[encoded data removed]",
      "text/plain": [
       "<Figure size 432x288 with 1 Axes>"
      ]
     },
     "metadata": {},
     "output_type": "display_data"
    }
   ],
   "source": [
    "df = pd.DataFrame({'x': x_test[:,0], 'y': y_test})\n",
    "df = df.sort_values(by='x')\n",
    "from scipy.special import expit\n",
    "sigmoid_function = expit(df['x'] * lr.coef_[0][0] + lr.intercept_[0]).ravel()\n",
    "plt.plot(df['x'], sigmoid_function)\n",
    "plt.scatter(df['x'], df['y'], c=df['y'], cmap='rainbow', edgecolors='b')"
   ]
  },
  {
   "cell_type": "code",
   "execution_count": null,
   "metadata": {},
   "outputs": [],
   "source": []
  }
 ],
 "metadata": {
  "kernelspec": {
   "display_name": "Python [conda env:ds1]",
   "language": "python",
   "name": "conda-env-ds1-py"
  },
  "language_info": {
   "codemirror_mode": {
    "name": "ipython",
    "version": 3
   },
   "file_extension": ".py",
   "mimetype": "text/x-python",
   "name": "python",
   "nbconvert_exporter": "python",
   "pygments_lexer": "ipython3",
   "version": "3.6.10"
  },
  "toc": {
   "base_numbering": 1,
   "nav_menu": {},
   "number_sections": true,
   "sideBar": true,
   "skip_h1_title": false,
   "title_cell": "Table of Contents",
   "title_sidebar": "Contents",
   "toc_cell": false,
   "toc_position": {},
   "toc_section_display": true,
   "toc_window_display": false
  },
  "varInspector": {
   "cols": {
    "lenName": 16,
    "lenType": 16,
    "lenVar": 40
   },
   "kernels_config": {
    "python": {
     "delete_cmd_postfix": "",
     "delete_cmd_prefix": "del ",
     "library": "var_list.py",
     "varRefreshCmd": "print(var_dic_list())"
    },
    "r": {
     "delete_cmd_postfix": ") ",
     "delete_cmd_prefix": "rm(",
     "library": "var_list.r",
     "varRefreshCmd": "cat(var_dic_list()) "
    }
   },
   "types_to_exclude": [
    "module",
    "function",
    "builtin_function_or_method",
    "instance",
    "_Feature"
   ],
   "window_display": false
  }
 },
 "nbformat": 4,
 "nbformat_minor": 2
}

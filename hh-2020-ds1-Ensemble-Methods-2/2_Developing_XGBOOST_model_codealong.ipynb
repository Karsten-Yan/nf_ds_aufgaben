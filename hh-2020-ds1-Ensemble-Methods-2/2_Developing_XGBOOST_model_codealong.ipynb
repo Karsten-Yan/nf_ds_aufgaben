{
 "cells": [
  {
   "cell_type": "markdown",
   "metadata": {},
   "source": [
    "# Developing XGBoost Algorithm\n",
    "\n",
    "Below you will find a blog post, describing how to use the XGBoost Algorithm. In the beginning of the blog post one way to install the package xgboost is explained. **Please do not install the package this way!** Below it is described what you should do to install the package for the xgboost algorithm. The package of xgboost has some dependencies and, therefore, can cause problems in our environment. \n",
    "\n",
    "\n",
    "**PLEASE do the coding from this blog post with YOUR OWN comments on what is happening here: https://machinelearningmastery.com/develop-first-xgboost-model-python-scikit-learn/**\n",
    "\n",
    "Our environment 'nf' already contains the package `py-xgboost`. This line is commented out so far (marked with a #). Please remove the # in the environment.yml file, change the directory in your terminal to the directory where the environment.yml file is stored, and then update your environment with the command `conda env update -f environment.yml`.\n",
    "The next step is to activate the env 'nf'. Now the code in this notebook (`from xgboost import XGClassifier`) should work.\n"
   ]
  },
  {
   "cell_type": "code",
   "execution_count": 1,
   "metadata": {
    "ExecuteTime": {
     "end_time": "2020-03-19T08:24:08.813432Z",
     "start_time": "2020-03-19T08:24:07.248548Z"
    }
   },
   "outputs": [],
   "source": [
    "from numpy import loadtxt\n",
    "from xgboost import XGBClassifier\n",
    "from sklearn.model_selection import train_test_split\n",
    "from sklearn.metrics import accuracy_score"
   ]
  },
  {
   "cell_type": "code",
   "execution_count": null,
   "metadata": {},
   "outputs": [],
   "source": []
  }
 ],
 "metadata": {
  "kernelspec": {
   "display_name": "Python 3",
   "language": "python",
   "name": "python3"
  },
  "language_info": {
   "codemirror_mode": {
    "name": "ipython",
    "version": 3
   },
   "file_extension": ".py",
   "mimetype": "text/x-python",
   "name": "python",
   "nbconvert_exporter": "python",
   "pygments_lexer": "ipython3",
   "version": "3.6.10"
  },
  "toc": {
   "base_numbering": 1,
   "nav_menu": {},
   "number_sections": true,
   "sideBar": true,
   "skip_h1_title": false,
   "title_cell": "Table of Contents",
   "title_sidebar": "Contents",
   "toc_cell": false,
   "toc_position": {},
   "toc_section_display": true,
   "toc_window_display": false
  },
  "varInspector": {
   "cols": {
    "lenName": 16,
    "lenType": 16,
    "lenVar": 40
   },
   "kernels_config": {
    "python": {
     "delete_cmd_postfix": "",
     "delete_cmd_prefix": "del ",
     "library": "var_list.py",
     "varRefreshCmd": "print(var_dic_list())"
    },
    "r": {
     "delete_cmd_postfix": ") ",
     "delete_cmd_prefix": "rm(",
     "library": "var_list.r",
     "varRefreshCmd": "cat(var_dic_list()) "
    }
   },
   "types_to_exclude": [
    "module",
    "function",
    "builtin_function_or_method",
    "instance",
    "_Feature"
   ],
   "window_display": false
  }
 },
 "nbformat": 4,
 "nbformat_minor": 2
}

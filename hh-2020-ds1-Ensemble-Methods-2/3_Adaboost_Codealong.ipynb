{
 "cells": [
  {
   "cell_type": "markdown",
   "metadata": {},
   "source": [
    "### PLEASE comment/document what each function is doing in your own words to demonstrate your understanding. Of course, push it up to your GitHub on completion."
   ]
  },
  {
   "cell_type": "code",
   "execution_count": 2,
   "metadata": {},
   "outputs": [],
   "source": [
    "import pandas as pd\n",
    "import numpy as np\n",
    "from sklearn.tree import DecisionTreeClassifier\n",
    "from sklearn.model_selection import train_test_split\n",
    "from sklearn.datasets import make_hastie_10_2\n",
    "import matplotlib.pyplot as plt\n"
   ]
  },
  {
   "cell_type": "code",
   "execution_count": 4,
   "metadata": {
    "collapsed": true
   },
   "outputs": [],
   "source": [
    "\"\"\" HELPER FUNCTION: GET ERROR RATE =========================================\"\"\"\n",
    "# we define new funcions, with arguments pred (prediction) and Y\n",
    "# sums all predictions which \n",
    "#are not equal to actual Y values, and divide it by the length of Y)\n",
    "def get_error_rate(pred, Y):\n",
    "    return sum(pred != Y) / float(len(Y))\n",
    "\n",
    "\"\"\" HELPER FUNCTION: PRINT ERROR RATE =======================================\"\"\"\n",
    "# print the error generated in above function with 4 figures after dot\n",
    "def print_error_rate(err):\n",
    "    print ('Error rate: Training: %.4f - Test: %.4f' % err)\n",
    "\n",
    "\"\"\" HELPER FUNCTION: GENERIC CLASSIFIER =====================================\"\"\"\n",
    "# we define a function to take an arbitrary classifier\n",
    "# fit it to the training data\n",
    "# predixt classification for train and test\n",
    "# and return the error rates (train and test) by implementing the above functions\n",
    "def generic_clf(Y_train, X_train, Y_test, X_test, clf):\n",
    "    clf.fit(X_train,Y_train)\n",
    "    pred_train = clf.predict(X_train)\n",
    "    pred_test = clf.predict(X_test)\n",
    "    return get_error_rate(pred_train, Y_train), \\\n",
    "           get_error_rate(pred_test, Y_test)"
   ]
  },
  {
   "cell_type": "code",
   "execution_count": 3,
   "metadata": {},
   "outputs": [],
   "source": [
    "\"\"\" ADABOOST IMPLEMENTATION =================================================\"\"\"\n",
    "def adaboost_clf(Y_train, X_train, Y_test, X_test, M, clf):\n",
    "    # defines the lenght of data sets\n",
    "    n_train, n_test = len(X_train), len(X_test)\n",
    "    # Initialize weights, creates an array of one, divided by the lenght of n_train\n",
    "    w = np.ones(n_train) / n_train\n",
    "    # bereitet die arrays, and fills with zeros\n",
    "    pred_train, pred_test = [np.zeros(n_train), np.zeros(n_test)]\n",
    "    \n",
    "    for i in range(M):\n",
    "        # Fit a classifier with the specific weights\n",
    "        # and predict for train and test\n",
    "        clf.fit(X_train, Y_train, sample_weight = w)\n",
    "        pred_train_i = clf.predict(X_train)\n",
    "        pred_test_i = clf.predict(X_test)\n",
    "        # Indicator function\n",
    "        # creates a list with all items which dont correspond to \n",
    "        # Y_train, and uses int to covert True/False into 1/0\n",
    "        # values are 1 if it does not correspond and 0 if it does\n",
    "        miss = [int(x) for x in (pred_train_i != Y_train)]\n",
    "        # Equivalent with 1/-1 to update weights\n",
    "        # creates a new list miss2 for all items in miss\n",
    "        # with values 1 for 1 and -1 for zero\n",
    "        # 1 is false predicted and -1 for correct predicted\n",
    "        miss2 = [x if x==1 else -1 for x in miss]\n",
    "        # multiplicates each value of w (e,g. 1/8 for n_train_len = 8) \n",
    "        # with miss and divides by sum of weights\n",
    "        # np.dot is \"scalierprodukt\" which multiplies the values of two vectors\n",
    "        # addiert weight wenns falsch vorhergesagt wurde\n",
    "        # sum(w)==0 in erstem Loop\n",
    "        err_m = np.dot(w,miss) / sum(w)\n",
    "        # alpha_m provides \"amount of say\" (wight) value for the classifier\n",
    "        # to be used at the end of the ensemble prediction\n",
    "        # np.log function returns large positive nubmer if err_m is small (i.e. err_m < 0.5)\n",
    "        # np.log function returns large negative nubmer if err_m is large (i.e. err_m > 0.5)\n",
    "        # np.log function returns zeor nubmer if err_m is 0.5\n",
    "        alpha_m = 0.5 * np.log( (1 - err_m) / float(err_m))\n",
    "        # New weights\n",
    "        # if x == 1.0 (false predicted), and \n",
    "        # alpha_m == e.g.5 (good predictor = high \"amount of say\")\n",
    "        # then we take an e^(1*5) (== which is a high number)\n",
    "        # and multipy it with old weight (e.g. 1/8)\n",
    "        # which is now our new weight for the instance\n",
    "        # wheight will be larger for false prediction\n",
    "        # \n",
    "        # and other wise if x == -1.0 (correct prediction)\n",
    "        # alpha_m == e.g. 5, then take an e^(-1*5) (== which is a low number)\n",
    "        # and multipy it with old weight (e.g. 1/8)\n",
    "        # which is now our new weight for the instance\n",
    "        # wheight will be smaller for correct prediction\n",
    "        w = np.multiply(w, np.exp([float(x) * alpha_m for x in miss2]))\n",
    "        # Add to prediction\n",
    "        # updates old prediction with product of new prediction and alpha_m\n",
    "        # double list comprehension\n",
    "        pred_train = [sum(x) for x in zip(pred_train, \n",
    "                                          [x * alpha_m for x in pred_train_i])]\n",
    "        pred_test = [sum(x) for x in zip(pred_test, \n",
    "                                         [x * alpha_m for x in pred_test_i])]\n",
    "    \n",
    "    # the values in pred_train and pred_test are transfomred in 1, if x >0\n",
    "    # and in -1, if x<0\n",
    "    pred_train, pred_test = np.sign(pred_train), np.sign(pred_test)\n",
    "    # Return error rate in train and test set\n",
    "    return get_error_rate(pred_train, Y_train), \\\n",
    "           get_error_rate(pred_test, Y_test)"
   ]
  },
  {
   "cell_type": "code",
   "execution_count": 4,
   "metadata": {},
   "outputs": [],
   "source": [
    "\n",
    "\"\"\" PLOT FUNCTION ===========================================================\"\"\"\n",
    "def plot_error_rate(er_train, er_test):\n",
    "    df_error = pd.DataFrame([er_train, er_test]).T\n",
    "    df_error.columns = ['Training', 'Test']\n",
    "    plot1 = df_error.plot(linewidth = 3, figsize = (8,6),\n",
    "            color = ['lightblue', 'darkblue'], grid = True)\n",
    "    plot1.set_xlabel('Number of iterations', fontsize = 12)\n",
    "    plot1.set_xticklabels(range(0,450,50))\n",
    "    plot1.set_ylabel('Error rate', fontsize = 12)\n",
    "    plot1.set_title('Error rate vs number of iterations', fontsize = 16)\n",
    "    plt.axhline(y=er_test[0], linewidth=1, color = 'red', ls = 'dashed')\n",
    "\n"
   ]
  },
  {
   "cell_type": "code",
   "execution_count": null,
   "metadata": {
    "collapsed": true
   },
   "outputs": [],
   "source": []
  },
  {
   "cell_type": "code",
   "execution_count": null,
   "metadata": {
    "collapsed": true
   },
   "outputs": [],
   "source": []
  },
  {
   "cell_type": "code",
   "execution_count": null,
   "metadata": {
    "collapsed": true
   },
   "outputs": [],
   "source": []
  }
 ],
 "metadata": {
  "kernelspec": {
   "display_name": "Python 3",
   "language": "python",
   "name": "python3"
  },
  "language_info": {
   "codemirror_mode": {
    "name": "ipython",
    "version": 3
   },
   "file_extension": ".py",
   "mimetype": "text/x-python",
   "name": "python",
   "nbconvert_exporter": "python",
   "pygments_lexer": "ipython3",
   "version": "3.6.10"
  }
 },
 "nbformat": 4,
 "nbformat_minor": 2
}

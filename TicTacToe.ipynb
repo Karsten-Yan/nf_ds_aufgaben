{
 "cells": [
  {
   "cell_type": "code",
   "execution_count": 1,
   "metadata": {},
   "outputs": [],
   "source": [
    "\n",
    "\n",
    "class TicTacToe():\n",
    "    def __init__(self):\n",
    "        \n",
    "        self.board =[]\n",
    "        self.temp_board=[]\n",
    "        self.game_end = False\n",
    "        self.turn = 0\n",
    "        self.player_id = 1\n",
    "        self.player_symbol = \"  X  \"\n",
    "    \n",
    "    def start_game(self):\n",
    "        \n",
    "        from IPython.display import clear_output\n",
    "        \n",
    "        self.turn = 0\n",
    "        self.game_end = False\n",
    "        self.player_id = 1\n",
    "        self.player_symbol = \"  X  \"\n",
    "        self.board = [[(0,0),(1,0),(2,0)],[(0,1),(1,1),(2,1)],[(0,2),(1,2),(2,2)]]\n",
    "        for i in self.board:\n",
    "            print(i)\n",
    "        while self.game_end == False:\n",
    "            clear_output(wait=True)\n",
    "            self.player_id = self.turn % 2 + 1\n",
    "            self.set_player_symbol()\n",
    "            self.ask_player()\n",
    "            for i in self.board:\n",
    "                print(i)\n",
    "            self.check_win()\n",
    "            if self.turn == 8 and self.game_end == False:\n",
    "                print(\"Mal wieder ein Unentschieden!\")\n",
    "                self.game_end = True\n",
    "            self.turn +=1\n",
    "            \n",
    "    def set_player_symbol(self):\n",
    "        if self.player_id == 1:\n",
    "            self.player_symbol = \"  X  \"\n",
    "        elif self.player_id == 2:\n",
    "            self.player_symbol = \"  O  \"\n",
    "            \n",
    "    def ask_player(self):\n",
    "        \n",
    "        self.move = tuple(int(i) for i in input(\"Spieler\" + \" \" + str(self.player_id) + \" \" + \"wähle ein Feld \"))\n",
    "        if any(self.move in sublist for sublist in self.board) == False:\n",
    "            print(\"Dies ist kein gültiger Zug!\")\n",
    "            self.ask_player()\n",
    "        else:\n",
    "            for idx1, elm in enumerate(self.board):\n",
    "                for idx2, elm2 in enumerate(elm):\n",
    "                    if elm2 == self.move:\n",
    "                        self.board[idx1][idx2] = self.player_symbol\n",
    "                    \n",
    "    def check_win(self):\n",
    "        import copy as cp\n",
    "        self.temp_board=cp.deepcopy(self.board)\n",
    "        \n",
    "        for idx1, i in enumerate(self.temp_board):\n",
    "            for idx2, elm in enumerate(i):\n",
    "                if elm == self.player_symbol:\n",
    "                    self.temp_board[idx1][idx2] = True\n",
    "                else:\n",
    "                    self.temp_board[idx1][idx2] = False\n",
    "        for idx, elm in enumerate(self.temp_board):\n",
    "            if all(self.temp_board[idx]) == True:\n",
    "                    self.game_end = True\n",
    "                    print(\"Spieler\"+\" \"+str(self.player_id)+ \" \" + \"hat gewonnen!\")\n",
    "        for idx in [[i[n] for i in self.temp_board] for n in range(3)]:\n",
    "            if all(idx) == True:\n",
    "                self.game_end = True\n",
    "                print(\"Spieler\"+\" \"+str(self.player_id)+ \" \" + \"hat gewonnen!\")\n",
    "        if  self.temp_board[0][0] and self.temp_board[1][1] and self.temp_board[2][2] == True:\n",
    "            self.game_end = True\n",
    "            print(\"Spieler\"+\" \"+str(self.player_id)+ \" \" + \"hat gewonnen!\")\n",
    "        if  self.temp_board[0][2] and self.temp_board[1][1] and self.temp_board[2][0] == True:\n",
    "            self.game_end = True\n",
    "            print(\"Spieler\"+\" \"+str(self.player_id)+ \" \" + \"hat gewonnen!\")\n",
    "            \n",
    "            \n",
    "    \n"
   ]
  },
  {
   "cell_type": "code",
   "execution_count": 2,
   "metadata": {},
   "outputs": [],
   "source": [
    "game = TicTacToe()"
   ]
  },
  {
   "cell_type": "code",
   "execution_count": 3,
   "metadata": {},
   "outputs": [
    {
     "name": "stdout",
     "output_type": "stream",
     "text": [
      "Spieler 1 wähle ein Feld 22\n",
      "['  X  ', '  O  ', '  O  ']\n",
      "[(0, 1), '  X  ', (2, 1)]\n",
      "[(0, 2), (1, 2), '  X  ']\n",
      "Spieler 1 hat gewonnen!\n"
     ]
    }
   ],
   "source": [
    "game.start_game()\n"
   ]
  },
  {
   "cell_type": "markdown",
   "metadata": {},
   "source": [
    "# game.check_win\n"
   ]
  },
  {
   "cell_type": "code",
   "execution_count": null,
   "metadata": {},
   "outputs": [],
   "source": [
    "\"moin\"\n",
    "%clear"
   ]
  },
  {
   "cell_type": "code",
   "execution_count": null,
   "metadata": {},
   "outputs": [],
   "source": [
    "board=[[False,(1,0),(2,0)],[False,(1,1),(2,1)],[False,(1,2),(2,2)]]\n",
    "for i in board:\n",
    "    print(i)"
   ]
  },
  {
   "cell_type": "code",
   "execution_count": null,
   "metadata": {},
   "outputs": [],
   "source": [
    "temp_board = board\n",
    "for idx1, i in enumerate(temp_board):\n",
    "    for idx2, elm in enumerate(i):\n",
    "        if elm == player_id:\n",
    "            temp_board[idx1][idx2] = True\n",
    "        else:\n",
    "            temp_board[idx1][idx2] = False\n",
    "\n",
    "\n",
    "            \n",
    "for i in temp_board:\n",
    "    print(i)          "
   ]
  },
  {
   "cell_type": "code",
   "execution_count": null,
   "metadata": {},
   "outputs": [],
   "source": [
    "all([i[0] for i in temp_board]) == \"moin\"\n",
    "    "
   ]
  },
  {
   "cell_type": "code",
   "execution_count": null,
   "metadata": {},
   "outputs": [],
   "source": [
    "board = [[False,(1,0),(2,0)],[False,(1,1),(2,1)],[False,(1,2),(2,2)]]\n",
    "\n",
    "move=(1, 3)\n",
    "\n",
    "move in board[0] or move in board[1] or move in board [2] == False"
   ]
  },
  {
   "cell_type": "code",
   "execution_count": null,
   "metadata": {},
   "outputs": [],
   "source": [
    "a = 5\n",
    "d = 10\n",
    "\n",
    "a=d\n",
    "print(d)"
   ]
  },
  {
   "cell_type": "code",
   "execution_count": null,
   "metadata": {},
   "outputs": [],
   "source": [
    "board = [[False,(1,0),(2,0)],[False,(1,1),(2,1)],[False,(1,2),(2,2)]]\n",
    "board"
   ]
  },
  {
   "cell_type": "code",
   "execution_count": null,
   "metadata": {},
   "outputs": [],
   "source": []
  },
  {
   "cell_type": "code",
   "execution_count": null,
   "metadata": {},
   "outputs": [],
   "source": [
    " all([[i[n] for i in board] for n in range(3)][0])\n",
    "   \n",
    "            "
   ]
  },
  {
   "cell_type": "code",
   "execution_count": null,
   "metadata": {},
   "outputs": [],
   "source": [
    "move=(1, 3)\n",
    "\n",
    "board=([[(0,0),(1,0),(2,0)],[(0,1),(1,1),(2,1)],[(0,2),(1,2),(2,2)]])\n",
    "\n",
    "if any(move in sublist for sublist in board) == True:\n",
    "    print(\"yay\")\n",
    "else:\n",
    "    print(\"nay\")"
   ]
  },
  {
   "cell_type": "code",
   "execution_count": null,
   "metadata": {},
   "outputs": [],
   "source": [
    "any"
   ]
  }
 ],
 "metadata": {
  "kernelspec": {
   "display_name": "Python 3",
   "language": "python",
   "name": "python3"
  },
  "language_info": {
   "codemirror_mode": {
    "name": "ipython",
    "version": 3
   },
   "file_extension": ".py",
   "mimetype": "text/x-python",
   "name": "python",
   "nbconvert_exporter": "python",
   "pygments_lexer": "ipython3",
   "version": "3.6.10"
  }
 },
 "nbformat": 4,
 "nbformat_minor": 2
}
